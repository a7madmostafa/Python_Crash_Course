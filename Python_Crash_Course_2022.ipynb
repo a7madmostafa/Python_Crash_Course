{
  "cells": [
    {
      "cell_type": "markdown",
      "metadata": {
        "id": "view-in-github",
        "colab_type": "text"
      },
      "source": [
        "<a href=\"https://colab.research.google.com/github/a7madmostafa/Python_Crash_Course/blob/master/Python_Crash_Course_2022.ipynb\" target=\"_parent\"><img src=\"https://colab.research.google.com/assets/colab-badge.svg\" alt=\"Open In Colab\"/></a>"
      ]
    },
    {
      "cell_type": "markdown",
      "source": [
        "# Intro"
      ],
      "metadata": {
        "id": "UOj9me7SNXxW"
      }
    },
    {
      "cell_type": "markdown",
      "source": [
        "\n",
        "* What is Programming ?\n",
        "* What is Programming Language?\n",
        "* Why are there many Programming languages?\n",
        "* Why Python for Data Science?\n",
        "* Why Ipython? \n"
      ],
      "metadata": {
        "id": "NBduUVBJNpkE"
      }
    },
    {
      "cell_type": "markdown",
      "metadata": {
        "id": "6GRrRbnjNRD5"
      },
      "source": [
        "## (0) Your First Program\n"
      ]
    },
    {
      "cell_type": "code",
      "execution_count": null,
      "metadata": {
        "id": "584DUiCDNRD5"
      },
      "outputs": [],
      "source": [
        "print('Hello world!')"
      ]
    },
    {
      "cell_type": "markdown",
      "source": [
        "# Part (1): Python Data Structures"
      ],
      "metadata": {
        "id": "wGzD-HfKl3JR"
      }
    },
    {
      "cell_type": "markdown",
      "metadata": {
        "id": "AAF-3BXKNRD7"
      },
      "source": [
        "## (1) Simple Arthimetic Operations\n"
      ]
    },
    {
      "cell_type": "code",
      "execution_count": null,
      "metadata": {
        "id": "qfGYLWKSNRD7"
      },
      "outputs": [],
      "source": [
        "print(2 + 2)"
      ]
    },
    {
      "cell_type": "code",
      "execution_count": null,
      "metadata": {
        "id": "daJY7R41NRD7"
      },
      "outputs": [],
      "source": [
        "5 + 4 - 3"
      ]
    },
    {
      "cell_type": "code",
      "execution_count": null,
      "metadata": {
        "id": "gvtLOcfzNRD8"
      },
      "outputs": [],
      "source": [
        "(2 * 3) + 4"
      ]
    },
    {
      "cell_type": "code",
      "execution_count": null,
      "metadata": {
        "id": "uAZgFkfnNRD8"
      },
      "outputs": [],
      "source": [
        "10 / 2"
      ]
    },
    {
      "cell_type": "code",
      "execution_count": null,
      "metadata": {
        "id": "6Y0xO4QNNRD9"
      },
      "outputs": [],
      "source": [
        "(-7 + 2) * (-4)"
      ]
    },
    {
      "cell_type": "markdown",
      "metadata": {
        "id": "fMw7EV4dNRD9"
      },
      "source": [
        "__Parentheses__ used to tell Python to do these operations first\n",
        "* Operator precedence without parentheses\n",
        "  * \\**\n",
        "  * *\n",
        "  * /\n",
        "  * \\+ and – executed left to right"
      ]
    },
    {
      "cell_type": "code",
      "execution_count": null,
      "metadata": {
        "id": "t-BozAn1NREC"
      },
      "outputs": [],
      "source": [
        "-7 + 2 * -4"
      ]
    },
    {
      "cell_type": "code",
      "execution_count": null,
      "metadata": {
        "id": "QSxsqKdcNREC"
      },
      "outputs": [],
      "source": [
        "11 / 0"
      ]
    },
    {
      "cell_type": "code",
      "execution_count": null,
      "metadata": {
        "id": "90pV3DtuNRED"
      },
      "outputs": [],
      "source": [
        "# Exponentiation >> just a comment\n",
        "2**5"
      ]
    },
    {
      "cell_type": "code",
      "execution_count": null,
      "metadata": {
        "id": "xWMwcPSPNRED"
      },
      "outputs": [],
      "source": [
        "9 ** (1/2)"
      ]
    },
    {
      "cell_type": "code",
      "execution_count": null,
      "metadata": {
        "id": "qvMUQf1ONRED"
      },
      "outputs": [],
      "source": [
        "\"\"\"\n",
        "Quotient \n",
        "(Integer Division)\n",
        "\"\"\"\n",
        "20 // 6 # >>> 3"
      ]
    },
    {
      "cell_type": "code",
      "execution_count": null,
      "metadata": {
        "id": "gq4118K5NRED"
      },
      "outputs": [],
      "source": [
        "# Remainder\n",
        "20 % 6"
      ]
    },
    {
      "cell_type": "markdown",
      "metadata": {
        "id": "rypy59z6NREE"
      },
      "source": [
        "### Numeric Functions\n"
      ]
    },
    {
      "cell_type": "code",
      "execution_count": null,
      "metadata": {
        "id": "pDHYMKbYNREE"
      },
      "outputs": [],
      "source": [
        "print(min(1, 2, 3, 4, 0, 2, 1))\n",
        "print(max([1, 4, 9, 2, 5, 6, 8]))\n",
        "print(abs(-99))\n",
        "print(abs(42))\n",
        "print(sum([1, 2, 3, 4, 5]))"
      ]
    },
    {
      "cell_type": "code",
      "execution_count": null,
      "metadata": {
        "id": "BdizLw5sNREE"
      },
      "outputs": [],
      "source": [
        "# What is the result of this code?\n",
        "a=min([sum([11, 22]), max(abs(-30), 2)])\n",
        "print(a)"
      ]
    },
    {
      "cell_type": "markdown",
      "source": [
        "## (2) Data Structures (objects)"
      ],
      "metadata": {
        "id": "XRM_KkU2O0X1"
      }
    },
    {
      "cell_type": "markdown",
      "metadata": {
        "id": "uodOdYRgNREE"
      },
      "source": [
        "\n",
        "\n",
        ">* Python is object oriented programming language, so every thing is object ( has properties + behaviors)\n",
        "* Objects have a __type__ that defines the kinds of things programs can do to them\n",
        "* Objects are\n",
        " * scalar (cannot be subdivided)\n",
        " * non-scalar (have internal structure that can be accessed)"
      ]
    },
    {
      "cell_type": "markdown",
      "source": [
        "### SCALAR OBJECTS\n"
      ],
      "metadata": {
        "id": "yexQJKtxO8dc"
      }
    },
    {
      "cell_type": "markdown",
      "metadata": {
        "id": "ixlYBgMENREF"
      },
      "source": [
        "\n",
        "* __int__ :      represent integers, ex. 5\n",
        "* __float__ :    represent real numbers, ex. 3.27\n",
        "* __bool__ :     represent Boolean values (True and False)\n",
        "* __NoneType__:  special and has one value, None\n",
        "\n",
        "You can use type() to see the type of an object\n",
        "> *Common data types include:*\n",
        "* int (for integer)\n",
        "* float\n",
        "* bool (for Boolean True/False)\n",
        "* str (for string)\n",
        "* list\n",
        "* tuple\n",
        "* dict (for dictionary)\n",
        "* set"
      ]
    },
    {
      "cell_type": "code",
      "execution_count": null,
      "metadata": {
        "id": "1_s2X4iHNREF"
      },
      "outputs": [],
      "source": [
        "type(100)"
      ]
    },
    {
      "cell_type": "code",
      "execution_count": null,
      "metadata": {
        "id": "dcgEJreRNREF"
      },
      "outputs": [],
      "source": [
        "type(5.7)"
      ]
    },
    {
      "cell_type": "code",
      "execution_count": null,
      "metadata": {
        "id": "GHsyrjuENREF"
      },
      "outputs": [],
      "source": [
        "type(5 == 5) # Check"
      ]
    },
    {
      "cell_type": "code",
      "source": [
        "5 == 5"
      ],
      "metadata": {
        "id": "LR2ySeGVfx2s"
      },
      "execution_count": null,
      "outputs": []
    },
    {
      "cell_type": "code",
      "execution_count": null,
      "metadata": {
        "id": "suiYLOIsNREG"
      },
      "outputs": [],
      "source": [
        "5!=5"
      ]
    },
    {
      "cell_type": "code",
      "execution_count": null,
      "metadata": {
        "id": "w_Ho8qScNREG"
      },
      "outputs": [],
      "source": [
        "8>4"
      ]
    },
    {
      "cell_type": "code",
      "execution_count": null,
      "metadata": {
        "id": "7OHcjKVuNREG"
      },
      "outputs": [],
      "source": [
        "type(print('Hello'))"
      ]
    },
    {
      "cell_type": "markdown",
      "metadata": {
        "id": "Tvd6pwhUNREG"
      },
      "source": [
        "### TYPE CONVERSIONS (CAST)\n"
      ]
    },
    {
      "cell_type": "code",
      "execution_count": null,
      "metadata": {
        "id": "8WpOc8puNREG"
      },
      "outputs": [],
      "source": [
        "float(3)"
      ]
    },
    {
      "cell_type": "code",
      "execution_count": null,
      "metadata": {
        "id": "olueU_wuNREG"
      },
      "outputs": [],
      "source": [
        "int(3.1)"
      ]
    },
    {
      "cell_type": "code",
      "execution_count": null,
      "metadata": {
        "id": "iKQcRSR1NREG"
      },
      "outputs": [],
      "source": [
        "int(3/4)  # 0.75"
      ]
    },
    {
      "cell_type": "code",
      "execution_count": null,
      "metadata": {
        "id": "f3DboY2_NREG"
      },
      "outputs": [],
      "source": [
        "int('12541')"
      ]
    },
    {
      "cell_type": "code",
      "source": [
        "float('1.5')"
      ],
      "metadata": {
        "id": "R8QGk9UcUQhn"
      },
      "execution_count": null,
      "outputs": []
    },
    {
      "cell_type": "markdown",
      "metadata": {
        "id": "tmwbF95UNREH"
      },
      "source": [
        "### Boolean Logic\n"
      ]
    },
    {
      "cell_type": "markdown",
      "source": [
        "#### And Operation"
      ],
      "metadata": {
        "id": "Vx9z0RFfOt9-"
      }
    },
    {
      "cell_type": "code",
      "execution_count": null,
      "metadata": {
        "id": "W8vSx_FrNREH"
      },
      "outputs": [],
      "source": [
        "1 == 1 and 2 == 2"
      ]
    },
    {
      "cell_type": "code",
      "execution_count": null,
      "metadata": {
        "id": "MoxT8oJANREH"
      },
      "outputs": [],
      "source": [
        " 1 == 1 and 2 == 3"
      ]
    },
    {
      "cell_type": "code",
      "execution_count": null,
      "metadata": {
        "id": "chesq5-lNREH"
      },
      "outputs": [],
      "source": [
        " 1 != 1 and 2 == 2   "
      ]
    },
    {
      "cell_type": "code",
      "execution_count": null,
      "metadata": {
        "id": "j106viQpNREH"
      },
      "outputs": [],
      "source": [
        "2 < 1 and 3 >  6"
      ]
    },
    {
      "cell_type": "markdown",
      "metadata": {
        "id": "bnWiQoGUNREH"
      },
      "source": [
        " #### Or Operation"
      ]
    },
    {
      "cell_type": "code",
      "execution_count": null,
      "metadata": {
        "id": "BpKaTuN9NREH"
      },
      "outputs": [],
      "source": [
        "1 == 1 or 2 == 2"
      ]
    },
    {
      "cell_type": "code",
      "execution_count": null,
      "metadata": {
        "id": "YgqAviZYNREI"
      },
      "outputs": [],
      "source": [
        "1 == 1 or 2 == 3"
      ]
    },
    {
      "cell_type": "code",
      "execution_count": null,
      "metadata": {
        "id": "GUSMO4IINREI"
      },
      "outputs": [],
      "source": [
        "1 != 1 or 2 == 2"
      ]
    },
    {
      "cell_type": "code",
      "execution_count": null,
      "metadata": {
        "id": "pNZQhD8GNREI"
      },
      "outputs": [],
      "source": [
        "2 < 1 or 3 >  6"
      ]
    },
    {
      "cell_type": "markdown",
      "metadata": {
        "id": "reIWz3yhNREI"
      },
      "source": [
        "#### Not Operation"
      ]
    },
    {
      "cell_type": "code",
      "execution_count": null,
      "metadata": {
        "id": "EeqIxBg_NREI"
      },
      "outputs": [],
      "source": [
        "not 1 == 1"
      ]
    },
    {
      "cell_type": "code",
      "execution_count": null,
      "metadata": {
        "id": "gH7X7lRjNREI"
      },
      "outputs": [],
      "source": [
        "not 1 > 7"
      ]
    },
    {
      "cell_type": "markdown",
      "source": [
        "## (3) Assignment ( Variables and Values)"
      ],
      "metadata": {
        "id": "j403FTusPBAc"
      }
    },
    {
      "cell_type": "markdown",
      "metadata": {
        "id": "gyyYYHDbNREJ"
      },
      "source": [
        " **Why give names to values of expressions?**\n",
        ">* to reuse names instead of values\n",
        "* easier to change code later"
      ]
    },
    {
      "cell_type": "code",
      "source": [
        "3.14 * 2.2**2"
      ],
      "metadata": {
        "id": "GoLcJiJSeC43"
      },
      "execution_count": null,
      "outputs": []
    },
    {
      "cell_type": "code",
      "execution_count": null,
      "metadata": {
        "id": "BclZop5hNREJ"
      },
      "outputs": [],
      "source": [
        "# Area of a circle\n",
        "pi = 3.14159\n",
        "radius = 2.2 / 2\n",
        "area = pi*(radius**2)"
      ]
    },
    {
      "cell_type": "code",
      "execution_count": null,
      "metadata": {
        "id": "l1HKZujNNREJ"
      },
      "outputs": [],
      "source": [
        "area"
      ]
    },
    {
      "cell_type": "markdown",
      "metadata": {
        "id": "-bECm0OXNREI"
      },
      "source": [
        "\n",
        ">equal sign (=) is an __assignment__ of a value to a variable name\n",
        "* Remember (==) is a check (is question)\n",
        "\n",
        " \n",
        " > **Rules for variable names**\n",
        "* names can not start with a number\n",
        "* names can not contain spaces, use _ intead\n",
        "* names can not contain any of these symbols:\n",
        "            :'\",<>/?|\\!@#%^&*~-+\n",
        "* it's considered best practice (PEP8) that names are lowercase with underscores\n",
        "* avoid using Python built-in keywords like list and str\n",
        "* avoid using the single characters l (lowercase letter el), O (uppercase letter oh) and I (uppercase letter eye) as they can be confused with 1 and 0"
      ]
    },
    {
      "cell_type": "code",
      "execution_count": null,
      "metadata": {
        "id": "g8aQQMY5NREJ"
      },
      "outputs": [],
      "source": [
        "a = 5 # Assignment"
      ]
    },
    {
      "cell_type": "code",
      "execution_count": null,
      "metadata": {
        "id": "kcHt_XLYNREJ"
      },
      "outputs": [],
      "source": [
        "a"
      ]
    },
    {
      "cell_type": "code",
      "execution_count": null,
      "metadata": {
        "id": "4ZvUltXXNREJ"
      },
      "outputs": [],
      "source": [
        "B == 4 # check"
      ]
    },
    {
      "cell_type": "markdown",
      "metadata": {
        "id": "BaDe6lP4NREJ"
      },
      "source": [
        "### Changing Assignment\n",
        ">We can __re-assign__ variable names using new assignment statements\n",
        " * previous value may still stored in memory but lost the handle for it\n",
        " * value for area does not change until you tell the computer to do the calculation again"
      ]
    },
    {
      "cell_type": "code",
      "execution_count": null,
      "metadata": {
        "id": "gn70ppduNREK"
      },
      "outputs": [],
      "source": [
        "radius = 3.2 /2"
      ]
    },
    {
      "cell_type": "code",
      "execution_count": null,
      "metadata": {
        "id": "HamvOfFCNREK"
      },
      "outputs": [],
      "source": [
        "area"
      ]
    },
    {
      "cell_type": "code",
      "execution_count": null,
      "metadata": {
        "id": "tdlKec-XNREK"
      },
      "outputs": [],
      "source": [
        "area = pi*(radius**2)\n",
        "area"
      ]
    },
    {
      "cell_type": "markdown",
      "source": [
        "### Dynamic Typing"
      ],
      "metadata": {
        "id": "1WldHeePV3EC"
      }
    },
    {
      "cell_type": "code",
      "source": [
        "a= 5\n",
        "print(a)\n",
        "a= 'Hello'\n",
        "print(a)"
      ],
      "metadata": {
        "id": "PEdh26cOV3Ji"
      },
      "execution_count": null,
      "outputs": []
    },
    {
      "cell_type": "markdown",
      "metadata": {
        "id": "r40ks_9TNREK"
      },
      "source": [
        "### In-Place Operators\n"
      ]
    },
    {
      "cell_type": "code",
      "execution_count": null,
      "metadata": {
        "id": "Jw_c5u83NREK"
      },
      "outputs": [],
      "source": [
        "radius = radius + 1 \n",
        "# it is legal in programming because (=) is just an assignment not equal"
      ]
    },
    {
      "cell_type": "code",
      "execution_count": null,
      "metadata": {
        "id": "QsSEKuJMNREK"
      },
      "outputs": [],
      "source": [
        "radius"
      ]
    },
    {
      "cell_type": "code",
      "execution_count": null,
      "metadata": {
        "id": "gPcKPhysNREK"
      },
      "outputs": [],
      "source": [
        "radius += 1\n",
        "radius"
      ]
    },
    {
      "cell_type": "code",
      "execution_count": null,
      "metadata": {
        "id": "UYgCsl2NNREL"
      },
      "outputs": [],
      "source": [
        "area"
      ]
    },
    {
      "cell_type": "code",
      "execution_count": null,
      "metadata": {
        "id": "SQmx3gQbNREL"
      },
      "outputs": [],
      "source": [
        "area = pi*(radius**2)\n",
        "area"
      ]
    },
    {
      "cell_type": "markdown",
      "metadata": {
        "id": "bh7l1GB4NREL"
      },
      "source": [
        "### Non-Scalar Objects ( compound data types )\n",
        "* strings\n",
        "* lists\n",
        "* tuples\n",
        "* set\n",
        "* dictionaries\n"
      ]
    },
    {
      "cell_type": "markdown",
      "metadata": {
        "id": "o91snWCZNREL"
      },
      "source": [
        "## (4) Strings\n"
      ]
    },
    {
      "cell_type": "markdown",
      "source": [
        "\n",
        ">* If you want to use text in Python, you have to use a string.\n",
        "* A __string__ is created by entering text between two single or double quotation marks."
      ],
      "metadata": {
        "id": "RSEYRrkRPsuE"
      }
    },
    {
      "cell_type": "code",
      "execution_count": null,
      "metadata": {
        "id": "adX1r9wgNREL"
      },
      "outputs": [],
      "source": [
        "\"Python is fun!\""
      ]
    },
    {
      "cell_type": "code",
      "execution_count": null,
      "metadata": {
        "id": "tvbPCYdONREL"
      },
      "outputs": [],
      "source": [
        "' I don\\'t like Music '"
      ]
    },
    {
      "cell_type": "code",
      "execution_count": null,
      "metadata": {
        "id": "Fdh2PbkyNREL"
      },
      "outputs": [],
      "source": [
        "\" she said: \\\"Yes\\\" \"  # \\ is escape"
      ]
    },
    {
      "cell_type": "markdown",
      "metadata": {
        "id": "msT229O7NREL"
      },
      "source": [
        "### String Output"
      ]
    },
    {
      "cell_type": "code",
      "execution_count": null,
      "metadata": {
        "id": "_RBD2OBGNREL"
      },
      "outputs": [],
      "source": [
        "print(\" Hi, there! \\n My name is Ahmad\")     # \\n represents a new line"
      ]
    },
    {
      "cell_type": "code",
      "execution_count": null,
      "metadata": {
        "id": "uBKW12FiNREM"
      },
      "outputs": [],
      "source": [
        "a = 1+1\n",
        "print(a)"
      ]
    },
    {
      "cell_type": "code",
      "source": [
        "a"
      ],
      "metadata": {
        "id": "-D4cVV_IkJ0a"
      },
      "execution_count": null,
      "outputs": []
    },
    {
      "cell_type": "code",
      "execution_count": null,
      "metadata": {
        "id": "pgeltZ2BNREM"
      },
      "outputs": [],
      "source": [
        "type(a)"
      ]
    },
    {
      "cell_type": "markdown",
      "metadata": {
        "id": "b_Dam-XDNREM"
      },
      "source": [
        "### String Input"
      ]
    },
    {
      "cell_type": "code",
      "execution_count": null,
      "metadata": {
        "id": "xSyVqwXlNREM"
      },
      "outputs": [],
      "source": [
        "input(\"Enter something please: \")"
      ]
    },
    {
      "cell_type": "code",
      "execution_count": null,
      "metadata": {
        "id": "igwxegvUNREM"
      },
      "outputs": [],
      "source": [
        "message= input(\"Enter a number please: \")"
      ]
    },
    {
      "cell_type": "code",
      "source": [
        "message"
      ],
      "metadata": {
        "id": "bkTWLVpIk5X5"
      },
      "execution_count": null,
      "outputs": []
    },
    {
      "cell_type": "code",
      "execution_count": null,
      "metadata": {
        "id": "l2mlDbjnNREM"
      },
      "outputs": [],
      "source": [
        "type(message)"
      ]
    },
    {
      "cell_type": "markdown",
      "metadata": {
        "id": "_FRpdcLVNREM"
      },
      "source": [
        "### Casting your input"
      ]
    },
    {
      "cell_type": "code",
      "execution_count": null,
      "metadata": {
        "id": "7AefedHtNREM"
      },
      "outputs": [],
      "source": [
        "my_num= int(input(\"Enter a number please: \"))"
      ]
    },
    {
      "cell_type": "code",
      "execution_count": null,
      "metadata": {
        "id": "aWylU_8YNREM"
      },
      "outputs": [],
      "source": [
        "type(my_num)"
      ]
    },
    {
      "cell_type": "code",
      "execution_count": null,
      "metadata": {
        "id": "NkBFsQX8NREN"
      },
      "outputs": [],
      "source": [
        "my_num2= float(input(\"Enter a number please: \"))"
      ]
    },
    {
      "cell_type": "code",
      "execution_count": null,
      "metadata": {
        "id": "4oT-QSfKNREN"
      },
      "outputs": [],
      "source": [
        "type(my_num2)"
      ]
    },
    {
      "cell_type": "code",
      "execution_count": null,
      "metadata": {
        "id": "mq8m7LvDNREN"
      },
      "outputs": [],
      "source": [
        "my_num2"
      ]
    },
    {
      "cell_type": "code",
      "execution_count": null,
      "metadata": {
        "id": "a_Bvtv0ENREN"
      },
      "outputs": [],
      "source": [
        "my_num3= float(input(\"Enter a number please: \"))"
      ]
    },
    {
      "cell_type": "code",
      "execution_count": null,
      "metadata": {
        "id": "STM28fojNREN"
      },
      "outputs": [],
      "source": [
        "my_num3"
      ]
    },
    {
      "cell_type": "markdown",
      "metadata": {
        "id": "MzrT2a9vNREN"
      },
      "source": [
        "### String Concatenation"
      ]
    },
    {
      "cell_type": "code",
      "execution_count": null,
      "metadata": {
        "id": "81cD7zF1NREN"
      },
      "outputs": [],
      "source": [
        "\"Hi\" + 'friends'"
      ]
    },
    {
      "cell_type": "code",
      "execution_count": null,
      "metadata": {
        "id": "5i-JB-9-NREN"
      },
      "outputs": [],
      "source": [
        "\"Hi\" + ' friends'"
      ]
    },
    {
      "cell_type": "code",
      "execution_count": null,
      "metadata": {
        "id": "ONaGj7NlNREO"
      },
      "outputs": [],
      "source": [
        "\"Hi\" + ', ' + 'friends'"
      ]
    },
    {
      "cell_type": "code",
      "execution_count": null,
      "metadata": {
        "id": "9a1mNPziNREO"
      },
      "outputs": [],
      "source": [
        "s1= 'Hi'\n",
        "s2 = 'friends'\n",
        "print(s1 + \", \" + s2)"
      ]
    },
    {
      "cell_type": "code",
      "execution_count": null,
      "metadata": {
        "id": "fXy5GcygNREO"
      },
      "outputs": [],
      "source": [
        "print(\"2\" + \"2\")"
      ]
    },
    {
      "cell_type": "code",
      "execution_count": null,
      "metadata": {
        "id": "LPxd6ZW2NREO"
      },
      "outputs": [],
      "source": [
        "1 + '2' + 3 + '4'"
      ]
    },
    {
      "cell_type": "markdown",
      "metadata": {
        "id": "gLr6xLRUNREO"
      },
      "source": [
        "### String Multiplication !"
      ]
    },
    {
      "cell_type": "code",
      "execution_count": null,
      "metadata": {
        "id": "6jPEkr53NREO"
      },
      "outputs": [],
      "source": [
        "print(\"Python\" * 3)"
      ]
    },
    {
      "cell_type": "code",
      "execution_count": null,
      "metadata": {
        "id": "gKMMTv6JNREO"
      },
      "outputs": [],
      "source": [
        "print(s1 * 3)"
      ]
    },
    {
      "cell_type": "code",
      "execution_count": null,
      "metadata": {
        "id": "3GFV_ZvENREO"
      },
      "outputs": [],
      "source": [
        "print((s1 + ' ') * 3)"
      ]
    },
    {
      "cell_type": "code",
      "execution_count": null,
      "metadata": {
        "id": "eO7HWmntNREP"
      },
      "outputs": [],
      "source": [
        "4 * '2'"
      ]
    },
    {
      "cell_type": "code",
      "execution_count": null,
      "metadata": {
        "id": "5YYKskj7NREP"
      },
      "outputs": [],
      "source": [
        "'17' * '87'"
      ]
    },
    {
      "cell_type": "code",
      "execution_count": null,
      "metadata": {
        "id": "obHP1MDiNREP"
      },
      "outputs": [],
      "source": [
        "'pythonisfun' * 7.1"
      ]
    },
    {
      "cell_type": "markdown",
      "metadata": {
        "id": "dnfSjID7NREP"
      },
      "source": [
        "### String Indexing\n",
        ">* A string is a __sequence__ of characters\n",
        "*  we can use indexes to call parts of this sequence\n",
        "* square brackets \\[ \\] used to perform indexing into a string to get the value at a certain index/position\n"
      ]
    },
    {
      "cell_type": "code",
      "execution_count": null,
      "metadata": {
        "id": "ceRz5XtrNREP"
      },
      "outputs": [],
      "source": [
        "s= 'I am different'\n",
        "    0123\n",
        "            -3-2-1"
      ]
    },
    {
      "cell_type": "code",
      "execution_count": null,
      "metadata": {
        "id": "P7Zn6PIuNREP"
      },
      "outputs": [],
      "source": [
        "s[1]   # first position "
      ]
    },
    {
      "cell_type": "code",
      "execution_count": null,
      "metadata": {
        "id": "Lt3PyZnXNREP"
      },
      "outputs": [],
      "source": [
        "s[5]"
      ]
    },
    {
      "cell_type": "code",
      "execution_count": null,
      "metadata": {
        "id": "3AEI6vSWNREP"
      },
      "outputs": [],
      "source": [
        "s[-1]"
      ]
    },
    {
      "cell_type": "markdown",
      "metadata": {
        "id": "XVshq4bTNREP"
      },
      "source": [
        " ### String Slicing\n",
        ">* can slices trings using [start:stop:step]\n",
        "* if give two numbers, [start:stop], step = 1 by default\n",
        "* if no start, start = 0 by default\n",
        "* if no stop, stop = len(s) by default"
      ]
    },
    {
      "cell_type": "code",
      "execution_count": null,
      "metadata": {
        "id": "0bVCQ06-NREQ"
      },
      "outputs": [],
      "source": [
        "s[0:3]"
      ]
    },
    {
      "cell_type": "code",
      "execution_count": null,
      "metadata": {
        "id": "hsAi9a_mNREQ"
      },
      "outputs": [],
      "source": [
        "s[0:8:2]"
      ]
    },
    {
      "cell_type": "code",
      "execution_count": null,
      "metadata": {
        "id": "w0G7a0A7NREQ"
      },
      "outputs": [],
      "source": [
        "s[::]   "
      ]
    },
    {
      "cell_type": "code",
      "execution_count": null,
      "metadata": {
        "id": "cxS81BS6NREQ"
      },
      "outputs": [],
      "source": [
        "s[::-1] # Mirror"
      ]
    },
    {
      "cell_type": "code",
      "execution_count": null,
      "metadata": {
        "id": "OvuTEuL_NREQ"
      },
      "outputs": [],
      "source": [
        "s[9:1:-2]"
      ]
    },
    {
      "cell_type": "code",
      "execution_count": null,
      "metadata": {
        "id": "4dn03oSsNREQ"
      },
      "outputs": [],
      "source": [
        "s[:6]"
      ]
    },
    {
      "cell_type": "code",
      "execution_count": null,
      "metadata": {
        "id": "JwC13fAJNREQ"
      },
      "outputs": [],
      "source": [
        "s[2:]"
      ]
    },
    {
      "cell_type": "code",
      "execution_count": null,
      "metadata": {
        "id": "YDkN4vYaNRER"
      },
      "outputs": [],
      "source": [
        "s[:]"
      ]
    },
    {
      "cell_type": "markdown",
      "metadata": {
        "id": "uiCNp0uXNRER"
      },
      "source": [
        "> **Note**: Strings are \"immmutable\"   : can not be modified"
      ]
    },
    {
      "cell_type": "code",
      "execution_count": null,
      "metadata": {
        "id": "NUQW6gbaNRER"
      },
      "outputs": [],
      "source": [
        "s = \"hello\""
      ]
    },
    {
      "cell_type": "code",
      "execution_count": null,
      "metadata": {
        "id": "dtN-THG6NRER"
      },
      "outputs": [],
      "source": [
        "s[0] = 'y'"
      ]
    },
    {
      "cell_type": "code",
      "execution_count": null,
      "metadata": {
        "id": "kd0EAOFbNRER"
      },
      "outputs": [],
      "source": [
        "s = 'y'+s[1:]"
      ]
    },
    {
      "cell_type": "code",
      "execution_count": null,
      "metadata": {
        "id": "_IIuQbyXNRER"
      },
      "outputs": [],
      "source": [
        "s"
      ]
    },
    {
      "cell_type": "markdown",
      "metadata": {
        "id": "uBv_AK8_NRER"
      },
      "source": [
        "### Basic Built-in String methods\n",
        "* Objects in Python usually have built-in methods that can perform actions or commands on the object itself.\n",
        "* __object.method(parameters)__"
      ]
    },
    {
      "cell_type": "code",
      "execution_count": null,
      "metadata": {
        "id": "aD5tgDXvNRER"
      },
      "outputs": [],
      "source": [
        "s2 = s.upper()"
      ]
    },
    {
      "cell_type": "code",
      "execution_count": null,
      "metadata": {
        "id": "sOtcfKjuNRES"
      },
      "outputs": [],
      "source": [
        "s"
      ]
    },
    {
      "cell_type": "code",
      "execution_count": null,
      "metadata": {
        "id": "VqI0SbG2NRES"
      },
      "outputs": [],
      "source": [
        "s.lower()"
      ]
    },
    {
      "cell_type": "code",
      "source": [
        "s = ' Hello, I_am learning_Python'"
      ],
      "metadata": {
        "id": "nCI0D-6MoJo7"
      },
      "execution_count": null,
      "outputs": []
    },
    {
      "cell_type": "code",
      "execution_count": null,
      "metadata": {
        "id": "hiErveOvNRES"
      },
      "outputs": [],
      "source": [
        "s.split('_')"
      ]
    },
    {
      "cell_type": "code",
      "execution_count": null,
      "metadata": {
        "id": "QtwU0scANRES"
      },
      "outputs": [],
      "source": [
        "s.split()"
      ]
    },
    {
      "cell_type": "code",
      "execution_count": null,
      "metadata": {
        "id": "5Ez_vOEFNRES"
      },
      "outputs": [],
      "source": [
        "'A_B_C'.split(sep='_')"
      ]
    },
    {
      "cell_type": "code",
      "execution_count": null,
      "metadata": {
        "id": "Zkx-GXtONRES"
      },
      "outputs": [],
      "source": [
        "s.split('m')"
      ]
    },
    {
      "cell_type": "code",
      "execution_count": null,
      "metadata": {
        "id": "iGvKZ4lGNRES"
      },
      "outputs": [],
      "source": [
        "s.split('f')"
      ]
    },
    {
      "cell_type": "markdown",
      "metadata": {
        "id": "dseGPYBwNRET"
      },
      "source": [
        "### Print Formatting"
      ]
    },
    {
      "cell_type": "code",
      "execution_count": null,
      "metadata": {
        "id": "oQJAQ1YyNRET"
      },
      "outputs": [],
      "source": [
        "# Replace curly brakets {} with values\n",
        "' I say {} to {} {} times'.format('hi', 'Osama', 3)"
      ]
    },
    {
      "cell_type": "code",
      "execution_count": null,
      "metadata": {
        "id": "VHSPEuymNRET"
      },
      "outputs": [],
      "source": [
        "# Another method\n",
        "\"I say %s to %s %d times.\" %('hi','Osama',3)"
      ]
    },
    {
      "cell_type": "code",
      "execution_count": null,
      "metadata": {
        "id": "CvlKZqS5NRET"
      },
      "outputs": [],
      "source": [
        "gpa= 3.75\n",
        "\"I got %f in math\" %(gpa)"
      ]
    },
    {
      "cell_type": "code",
      "execution_count": null,
      "metadata": {
        "id": "btZk7E94NRET"
      },
      "outputs": [],
      "source": [
        "\"I got %0.1f in math\" %(gpa)"
      ]
    },
    {
      "cell_type": "code",
      "source": [
        "name = 'Ahmad'\n",
        "age = 30"
      ],
      "metadata": {
        "id": "cFTa0Rk7pXs1"
      },
      "execution_count": null,
      "outputs": []
    },
    {
      "cell_type": "code",
      "source": [
        "print('My name is', name, '\\nand my age is', age)"
      ],
      "metadata": {
        "id": "o6-JDAIepXvT"
      },
      "execution_count": null,
      "outputs": []
    },
    {
      "cell_type": "code",
      "source": [
        "print('My name is {} and my age is {}'.format(name, age))"
      ],
      "metadata": {
        "id": "bwkOVebNpaeL"
      },
      "execution_count": null,
      "outputs": []
    },
    {
      "cell_type": "code",
      "source": [
        "print(f'My name is {name} and my age is {age}')"
      ],
      "metadata": {
        "id": "HaSLX7zypag0"
      },
      "execution_count": null,
      "outputs": []
    },
    {
      "cell_type": "code",
      "source": [
        "print('My name is {1} and my age is {0}'.format(name, age))"
      ],
      "metadata": {
        "id": "PaqAt6V2pXx1"
      },
      "execution_count": null,
      "outputs": []
    },
    {
      "cell_type": "markdown",
      "metadata": {
        "id": "IUM9u1VkNREU"
      },
      "source": [
        "## (5) Lists\n"
      ]
    },
    {
      "cell_type": "markdown",
      "source": [
        "> * ordered sequence of information, accessible by index\n",
        "* a list is denoted by squarebrackets, [ ]\n",
        "* a list contains elements\n",
        "    * usually homogeneous (ie, all integers)\n",
        "    * can contain mixed types (not common)\n",
        "* list elements can be changed so a list is *__mutable__*"
      ],
      "metadata": {
        "id": "NghPxNw0PqZc"
      }
    },
    {
      "cell_type": "code",
      "execution_count": null,
      "metadata": {
        "id": "ZTTIiLfiNREU"
      },
      "outputs": [],
      "source": [
        "num_list= [1,2,3]"
      ]
    },
    {
      "cell_type": "code",
      "execution_count": null,
      "metadata": {
        "id": "HnkAu_9xNREU"
      },
      "outputs": [],
      "source": [
        "str_list= ['Ahmed', 'Mohamed', 'Anas']"
      ]
    },
    {
      "cell_type": "code",
      "execution_count": null,
      "metadata": {
        "id": "-o83O48ENREU"
      },
      "outputs": [],
      "source": [
        "mix_list= ['A', 2, 3.7]"
      ]
    },
    {
      "cell_type": "code",
      "execution_count": null,
      "metadata": {
        "id": "eXIVRViKNREU"
      },
      "outputs": [],
      "source": [
        "len(num_list)"
      ]
    },
    {
      "cell_type": "markdown",
      "metadata": {
        "id": "98rMrPDRNREU"
      },
      "source": [
        "### List Indexing and Slicing\n",
        " Do you remember strings ?\n",
        " "
      ]
    },
    {
      "cell_type": "code",
      "execution_count": null,
      "metadata": {
        "id": "U1IPNTA_NREU"
      },
      "outputs": [],
      "source": [
        "num_list[2]  # Remember: We start at index 0 "
      ]
    },
    {
      "cell_type": "code",
      "execution_count": null,
      "metadata": {
        "id": "N8ybCrV4NREU"
      },
      "outputs": [],
      "source": [
        "str_list[:2]"
      ]
    },
    {
      "cell_type": "code",
      "execution_count": null,
      "metadata": {
        "id": "3Q_GTsUNNREV"
      },
      "outputs": [],
      "source": [
        "mix_list[1:]"
      ]
    },
    {
      "cell_type": "code",
      "execution_count": null,
      "metadata": {
        "id": "4Xn7c-zkNREV"
      },
      "outputs": [],
      "source": [
        "new_list= num_list + str_list"
      ]
    },
    {
      "cell_type": "code",
      "execution_count": null,
      "metadata": {
        "id": "iKE5sYe3NREV"
      },
      "outputs": [],
      "source": [
        "new_list"
      ]
    },
    {
      "cell_type": "code",
      "execution_count": null,
      "metadata": {
        "id": "6QR0GKYUNREV"
      },
      "outputs": [],
      "source": [
        "new_list += [5]\n",
        "new_list"
      ]
    },
    {
      "cell_type": "code",
      "source": [
        "new_list += [5]\n",
        "new_list"
      ],
      "metadata": {
        "id": "3Pd7ekgBiDR6"
      },
      "execution_count": null,
      "outputs": []
    },
    {
      "cell_type": "code",
      "execution_count": null,
      "metadata": {
        "id": "qRE69PE8NREV"
      },
      "outputs": [],
      "source": [
        "num_list * 2"
      ]
    },
    {
      "cell_type": "code",
      "execution_count": null,
      "metadata": {
        "id": "IdB0Z9m0NREV"
      },
      "outputs": [],
      "source": [
        "num_list"
      ]
    },
    {
      "cell_type": "code",
      "execution_count": null,
      "metadata": {
        "id": "bouTH2C_NREV"
      },
      "outputs": [],
      "source": [
        "num_list[0]+=5"
      ]
    },
    {
      "cell_type": "code",
      "execution_count": null,
      "metadata": {
        "id": "HNyOqRf7NREV"
      },
      "outputs": [],
      "source": [
        "num_list[1] += 4       # It is mutable\n",
        "num_list"
      ]
    },
    {
      "cell_type": "markdown",
      "metadata": {
        "id": "FC1E9dBDNREW"
      },
      "source": [
        "> ### __Note:__ \n",
        "* If you are familiar with another programming language, you might start to draw parallels between arrays in another language and lists in Python. \n",
        "* Lists in Python however, tend to be more flexible than arrays in other languages for a two good reasons: \n",
        "    * they have __no fixed size__ (meaning we don't have to specify how big a list will be).\n",
        "    * they have __no fixed type__ constraint (like we've seen above)."
      ]
    },
    {
      "cell_type": "markdown",
      "metadata": {
        "id": "CI9kYnp7NREW"
      },
      "source": [
        "\n",
        "### Basic List Methods\n"
      ]
    },
    {
      "cell_type": "code",
      "execution_count": null,
      "metadata": {
        "id": "yUavbasmNREW"
      },
      "outputs": [],
      "source": [
        "# Append: add elements to end of list\n",
        "num_list.append(3.5)\n",
        "num_list"
      ]
    },
    {
      "cell_type": "code",
      "execution_count": null,
      "metadata": {
        "id": "cf0DEUKANREW"
      },
      "outputs": [],
      "source": [
        "# pop: remove elements from a list ( default: -1)\n",
        "num_list.pop()        # specify index"
      ]
    },
    {
      "cell_type": "code",
      "execution_count": null,
      "metadata": {
        "id": "4nEW4qbFNREW"
      },
      "outputs": [],
      "source": [
        "num_list"
      ]
    },
    {
      "cell_type": "code",
      "execution_count": null,
      "metadata": {
        "id": "Wakt8QSLNREW"
      },
      "outputs": [],
      "source": [
        "num_list.pop(1)"
      ]
    },
    {
      "cell_type": "code",
      "execution_count": null,
      "metadata": {
        "id": "Egh63glMNREW"
      },
      "outputs": [],
      "source": [
        "num_list"
      ]
    },
    {
      "cell_type": "code",
      "execution_count": null,
      "metadata": {
        "id": "WSNQGu9jNREX"
      },
      "outputs": [],
      "source": [
        "num_list.pop(1,3)"
      ]
    },
    {
      "cell_type": "code",
      "execution_count": null,
      "metadata": {
        "id": "VpRuId3hNREX"
      },
      "outputs": [],
      "source": [
        "num_list.pop(6)"
      ]
    },
    {
      "cell_type": "code",
      "execution_count": null,
      "metadata": {
        "id": "std8033fNREX"
      },
      "outputs": [],
      "source": [
        "num_list.remove(3)     # specify an element not index"
      ]
    },
    {
      "cell_type": "code",
      "source": [
        "num_list"
      ],
      "metadata": {
        "id": "ArGvuSpqjcRS"
      },
      "execution_count": null,
      "outputs": []
    },
    {
      "cell_type": "code",
      "execution_count": null,
      "metadata": {
        "id": "TdZp7lIgNREX"
      },
      "outputs": [],
      "source": [
        "num_list.remove(3.5) "
      ]
    },
    {
      "cell_type": "code",
      "execution_count": null,
      "metadata": {
        "id": "p5MxkTPsNREX"
      },
      "outputs": [],
      "source": [
        "num_list"
      ]
    },
    {
      "cell_type": "code",
      "execution_count": null,
      "metadata": {
        "id": "FZSy48tDNREX"
      },
      "outputs": [],
      "source": [
        "del(num_list[1])"
      ]
    },
    {
      "cell_type": "code",
      "execution_count": null,
      "metadata": {
        "id": "BGPmtQstNREX"
      },
      "outputs": [],
      "source": [
        "num_list"
      ]
    },
    {
      "cell_type": "code",
      "execution_count": null,
      "metadata": {
        "id": "PFabjNj6NREX"
      },
      "outputs": [],
      "source": [
        "num_list += [10,5,2,3]\n",
        "num_list"
      ]
    },
    {
      "cell_type": "code",
      "execution_count": null,
      "metadata": {
        "id": "Iy2KMgYjNREX"
      },
      "outputs": [],
      "source": [
        "num_list.sort()"
      ]
    },
    {
      "cell_type": "code",
      "execution_count": null,
      "metadata": {
        "id": "WzxRCUirNREY"
      },
      "outputs": [],
      "source": [
        "num_list"
      ]
    },
    {
      "cell_type": "code",
      "execution_count": null,
      "metadata": {
        "id": "q7bhZWrjNREY"
      },
      "outputs": [],
      "source": [
        "num_list.sort(reverse=True)"
      ]
    },
    {
      "cell_type": "code",
      "execution_count": null,
      "metadata": {
        "id": "KRw2hgDPNREY"
      },
      "outputs": [],
      "source": [
        "num_list"
      ]
    },
    {
      "cell_type": "code",
      "execution_count": null,
      "metadata": {
        "id": "B1qkTQpcNREY"
      },
      "outputs": [],
      "source": [
        "num_list.reverse()\n",
        "num_list"
      ]
    },
    {
      "cell_type": "code",
      "execution_count": null,
      "metadata": {
        "id": "oG_3RI4XNREY"
      },
      "outputs": [],
      "source": [
        "num_list.reverse()\n",
        "num_list"
      ]
    },
    {
      "cell_type": "code",
      "execution_count": null,
      "metadata": {
        "id": "Flx-s2K6NREY"
      },
      "outputs": [],
      "source": [
        "lst_1= sorted(num_list)\n",
        "lst_1"
      ]
    },
    {
      "cell_type": "code",
      "execution_count": null,
      "metadata": {
        "id": "OR9uwZRPNREY"
      },
      "outputs": [],
      "source": [
        "num_list"
      ]
    },
    {
      "cell_type": "code",
      "execution_count": null,
      "metadata": {
        "id": "pYOCNcGVNREY"
      },
      "outputs": [],
      "source": [
        "num_list.index(2)"
      ]
    },
    {
      "cell_type": "markdown",
      "metadata": {
        "id": "DhiUTmY6NREY"
      },
      "source": [
        "### CONVERT LISTS TO STRINGS AND BACK"
      ]
    },
    {
      "cell_type": "code",
      "execution_count": null,
      "metadata": {
        "id": "_4jQxU2jNREZ"
      },
      "outputs": [],
      "source": [
        "# can use s.split() to split a string on a character parameter\n",
        "msg= 'Hello Python!'\n",
        "msg.split()"
      ]
    },
    {
      "cell_type": "code",
      "execution_count": null,
      "metadata": {
        "id": "KbcGwofYNREZ"
      },
      "outputs": [],
      "source": [
        "msg.split('o')"
      ]
    },
    {
      "cell_type": "code",
      "execution_count": null,
      "metadata": {
        "id": "BfymipNONREZ"
      },
      "outputs": [],
      "source": [
        "# from string to list\n",
        "msg_lst= list(msg)\n",
        "msg_lst"
      ]
    },
    {
      "cell_type": "code",
      "execution_count": null,
      "metadata": {
        "id": "keyT4ZbzNREZ"
      },
      "outputs": [],
      "source": [
        "list('ABCDEFGHIJKLM')"
      ]
    },
    {
      "cell_type": "code",
      "execution_count": null,
      "metadata": {
        "id": "AUNQ8M33NREZ"
      },
      "outputs": [],
      "source": [
        "# from list to string\n",
        "''.join(msg_lst)"
      ]
    },
    {
      "cell_type": "code",
      "execution_count": null,
      "metadata": {
        "id": "DEp_WJrfNREZ"
      },
      "outputs": [],
      "source": [
        "'_'.join(msg_lst)"
      ]
    },
    {
      "cell_type": "markdown",
      "metadata": {
        "id": "6RekCu59NREZ"
      },
      "source": [
        "### List Aliasing vs. Cloning"
      ]
    },
    {
      "cell_type": "code",
      "execution_count": null,
      "metadata": {
        "id": "nwtcvVvVNREZ"
      },
      "outputs": [],
      "source": [
        "warm= ['red', 'yellow', 'orange']"
      ]
    },
    {
      "cell_type": "code",
      "execution_count": null,
      "metadata": {
        "id": "wOqqDVrZNREZ"
      },
      "outputs": [],
      "source": [
        "hot = warm       # Aliasing"
      ]
    },
    {
      "cell_type": "code",
      "execution_count": null,
      "metadata": {
        "id": "qxhNHdznNREa"
      },
      "outputs": [],
      "source": [
        "hot.append('pink')"
      ]
    },
    {
      "cell_type": "code",
      "execution_count": null,
      "metadata": {
        "id": "bTJfskoONREa"
      },
      "outputs": [],
      "source": [
        "warm"
      ]
    },
    {
      "cell_type": "code",
      "source": [
        "cool = warm.copy()  # [:]  Cloning"
      ],
      "metadata": {
        "id": "ewqeUSyTlk1B"
      },
      "execution_count": null,
      "outputs": []
    },
    {
      "cell_type": "code",
      "source": [
        "cool.append('B')"
      ],
      "metadata": {
        "id": "uVXcHSt5lovR"
      },
      "execution_count": null,
      "outputs": []
    },
    {
      "cell_type": "code",
      "source": [
        "warm"
      ],
      "metadata": {
        "id": "KCCuAKZ2lo2K"
      },
      "execution_count": null,
      "outputs": []
    },
    {
      "cell_type": "code",
      "source": [
        "cool"
      ],
      "metadata": {
        "id": "8tGl3Y3GltwB"
      },
      "execution_count": null,
      "outputs": []
    },
    {
      "cell_type": "markdown",
      "source": [
        "![list aliasing.png](data:image/png;base64,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)"
      ],
      "metadata": {
        "id": "Moa_5vIkSXFl"
      }
    },
    {
      "cell_type": "markdown",
      "metadata": {
        "id": "F6QlzQLCNREb"
      },
      "source": [
        "### Lists Nesting  "
      ]
    },
    {
      "cell_type": "code",
      "execution_count": null,
      "metadata": {
        "id": "QvFCK1xmNREb"
      },
      "outputs": [],
      "source": [
        "warm = ['yellow', 'orange']\n",
        "hot = ['red']"
      ]
    },
    {
      "cell_type": "code",
      "execution_count": null,
      "metadata": {
        "id": "wxfLWvnMNREb"
      },
      "outputs": [],
      "source": [
        "brightcolors = [warm]\n",
        "brightcolors"
      ]
    },
    {
      "cell_type": "code",
      "execution_count": null,
      "metadata": {
        "id": "RZ3WjLJmNREb"
      },
      "outputs": [],
      "source": [
        "brightcolors.append(hot)\n",
        "brightcolors"
      ]
    },
    {
      "cell_type": "code",
      "execution_count": null,
      "metadata": {
        "id": "sgSZO1tVNREb"
      },
      "outputs": [],
      "source": [
        "hot.append('pink')"
      ]
    },
    {
      "cell_type": "code",
      "execution_count": null,
      "metadata": {
        "id": "tkn4F6gtNREb"
      },
      "outputs": [],
      "source": [
        "print(hot)\n",
        "print(brightcolors)"
      ]
    },
    {
      "cell_type": "code",
      "execution_count": null,
      "metadata": {
        "id": "y-DIsNUaNREc"
      },
      "outputs": [],
      "source": [
        "brightcolors[0]"
      ]
    },
    {
      "cell_type": "code",
      "execution_count": null,
      "metadata": {
        "id": "sp5qAimJNREc"
      },
      "outputs": [],
      "source": [
        "brightcolors[0][1]"
      ]
    },
    {
      "cell_type": "markdown",
      "source": [
        "### List of Lists"
      ],
      "metadata": {
        "id": "knpnS0aZpGCt"
      }
    },
    {
      "cell_type": "code",
      "execution_count": null,
      "metadata": {
        "id": "C3tjfrrFNREc"
      },
      "outputs": [],
      "source": [
        "# Let's make three lists\n",
        "lst_1=[1,2,3]\n",
        "lst_2=[4,5,6]\n",
        "lst_3=[7,8,9]\n",
        "\n",
        "# Make a list of lists to form a matrix\n",
        "matrix = [lst_1,lst_2,lst_3]"
      ]
    },
    {
      "cell_type": "code",
      "execution_count": null,
      "metadata": {
        "id": "K9BDfAYdNREc"
      },
      "outputs": [],
      "source": [
        "matrix"
      ]
    },
    {
      "cell_type": "markdown",
      "metadata": {
        "id": "Jou_lDvONREc"
      },
      "source": [
        "###Undefined No. of inputs"
      ]
    },
    {
      "cell_type": "code",
      "source": [
        "range(100)"
      ],
      "metadata": {
        "id": "Y1YnGgAenJ2q"
      },
      "execution_count": null,
      "outputs": []
    },
    {
      "cell_type": "code",
      "source": [
        "list(range(100))"
      ],
      "metadata": {
        "id": "FGMMZostnOza"
      },
      "execution_count": null,
      "outputs": []
    },
    {
      "cell_type": "code",
      "source": [
        "a,b,c, *rest= list(range(100))\n",
        "a"
      ],
      "metadata": {
        "id": "DeBG4-yuoEKE"
      },
      "execution_count": null,
      "outputs": []
    },
    {
      "cell_type": "code",
      "source": [
        "c"
      ],
      "metadata": {
        "id": "gQ0MCpr6oGtE"
      },
      "execution_count": null,
      "outputs": []
    },
    {
      "cell_type": "code",
      "source": [
        "rest"
      ],
      "metadata": {
        "id": "3TkRifNNoGvr"
      },
      "execution_count": null,
      "outputs": []
    },
    {
      "cell_type": "code",
      "source": [
        "a,b,c, *other= input('Numbers: ').split(',')\n",
        "other"
      ],
      "metadata": {
        "id": "dSpY___goRc7"
      },
      "execution_count": null,
      "outputs": []
    },
    {
      "cell_type": "code",
      "source": [
        "a"
      ],
      "metadata": {
        "id": "p4ACTA8Qnpd6"
      },
      "execution_count": null,
      "outputs": []
    },
    {
      "cell_type": "code",
      "source": [
        "b"
      ],
      "metadata": {
        "id": "8Bqn5BnvnphB"
      },
      "execution_count": null,
      "outputs": []
    },
    {
      "cell_type": "code",
      "source": [
        "other\n"
      ],
      "metadata": {
        "id": "zLKFcgwhnwma"
      },
      "execution_count": null,
      "outputs": []
    },
    {
      "cell_type": "markdown",
      "metadata": {
        "id": "2aqS5jolNREc"
      },
      "source": [
        "## (6) Tuples\n"
      ]
    },
    {
      "cell_type": "markdown",
      "source": [
        ">* an ordered sequence of elements, can mix element types\n",
        "* represented with parentheses ()\n",
        "* very similar to lists, however, unlike lists they are __*immutable*__ .\n",
        "* You would use tuples to present things that shouldn't be changed, such as days of the week, or dates on a calendar. "
      ],
      "metadata": {
        "id": "Yo3vhZowPhQl"
      }
    },
    {
      "cell_type": "code",
      "execution_count": null,
      "metadata": {
        "id": "wlTjqzWMNREc"
      },
      "outputs": [],
      "source": [
        "t=(1,2,3)"
      ]
    },
    {
      "cell_type": "code",
      "execution_count": null,
      "metadata": {
        "id": "MjB8DsLsNREc"
      },
      "outputs": [],
      "source": [
        "t.append(2)"
      ]
    },
    {
      "cell_type": "code",
      "execution_count": null,
      "metadata": {
        "id": "2Lri9LpeNREc"
      },
      "outputs": [],
      "source": [
        "tuple(range(2,20))"
      ]
    },
    {
      "cell_type": "code",
      "execution_count": null,
      "metadata": {
        "id": "r7fBNxsdNREd"
      },
      "outputs": [],
      "source": [
        "t"
      ]
    },
    {
      "cell_type": "code",
      "execution_count": null,
      "metadata": {
        "id": "2CPSYu7HNREd"
      },
      "outputs": [],
      "source": [
        "# Indexing\n",
        "t[2]"
      ]
    },
    {
      "cell_type": "code",
      "execution_count": null,
      "metadata": {
        "id": "_eVCmuNqNREd"
      },
      "outputs": [],
      "source": [
        "len(t)"
      ]
    },
    {
      "cell_type": "code",
      "execution_count": null,
      "metadata": {
        "id": "jsBz1wJmNREd"
      },
      "outputs": [],
      "source": [
        "t[1]= 7"
      ]
    },
    {
      "cell_type": "code",
      "execution_count": null,
      "metadata": {
        "id": "y0JhHjOmNREd"
      },
      "outputs": [],
      "source": [
        "t + (4,)"
      ]
    },
    {
      "cell_type": "code",
      "source": [
        "t"
      ],
      "metadata": {
        "id": "4x4HNJrlqX-J"
      },
      "execution_count": null,
      "outputs": []
    },
    {
      "cell_type": "code",
      "execution_count": null,
      "metadata": {
        "id": "M15o-yI_NREd"
      },
      "outputs": [],
      "source": [
        "t += (4,)\n",
        "t."
      ]
    },
    {
      "cell_type": "code",
      "execution_count": null,
      "metadata": {
        "id": "9Yig95ueNREd"
      },
      "outputs": [],
      "source": [
        "x,y,z= (3,4,5)"
      ]
    },
    {
      "cell_type": "code",
      "execution_count": null,
      "metadata": {
        "id": "IJOlfmthNREd"
      },
      "outputs": [],
      "source": [
        "x"
      ]
    },
    {
      "cell_type": "code",
      "execution_count": null,
      "metadata": {
        "id": "K-1H5EFONREd"
      },
      "outputs": [],
      "source": [
        "y"
      ]
    },
    {
      "cell_type": "code",
      "execution_count": null,
      "metadata": {
        "id": "B59R6mRqNREd"
      },
      "outputs": [],
      "source": [
        "z"
      ]
    },
    {
      "cell_type": "code",
      "execution_count": null,
      "metadata": {
        "id": "ehu_4GtINREe"
      },
      "outputs": [],
      "source": [
        "y,x=x,y   # very easy swaping ( no need for temp variable)"
      ]
    },
    {
      "cell_type": "code",
      "execution_count": null,
      "metadata": {
        "id": "lHX_SW6CNREe"
      },
      "outputs": [],
      "source": [
        "x"
      ]
    },
    {
      "cell_type": "code",
      "execution_count": null,
      "metadata": {
        "id": "4vFf2T8XNREe"
      },
      "outputs": [],
      "source": [
        "y"
      ]
    },
    {
      "cell_type": "markdown",
      "metadata": {
        "id": "nPznehAiNREe"
      },
      "source": [
        "## (7) Dictionaries\n",
        "\n"
      ]
    },
    {
      "cell_type": "markdown",
      "source": [
        "> We've been learning about *sequences* in Python but now we're going to switch gears and learn about *mappings* in Python. If you're familiar with other languages you can think of these Dictionaries as hash tables. \n",
        "* So what are mappings? Mappings are a collection of objects that are stored by a *key*, unlike a sequence that stored objects by their relative position. This is an important distinction, since mappings won't retain order since they have objects defined by a key.\n",
        "* Each element in a dictionary stores a pair of data and represented by a __*key:value*__ pair."
      ],
      "metadata": {
        "id": "A_vqlEBePjp0"
      }
    },
    {
      "cell_type": "code",
      "execution_count": null,
      "metadata": {
        "id": "EPsuhxNiNREe"
      },
      "outputs": [],
      "source": [
        "# Construct a dictionary\n",
        "ages = {\"Muhammad\": 24, \"Maryam\": 42, \"Anas\": 58}\n",
        "print(ages[\"Anas\"])\n",
        "print(ages[\"Maryam\"])"
      ]
    },
    {
      "cell_type": "code",
      "execution_count": null,
      "metadata": {
        "id": "HXWBjryCNREe"
      },
      "outputs": [],
      "source": [
        "ages.keys()    # Custom index by label"
      ]
    },
    {
      "cell_type": "code",
      "execution_count": null,
      "metadata": {
        "id": "0Kntzt3INREe"
      },
      "outputs": [],
      "source": [
        "ages.values()"
      ]
    },
    {
      "cell_type": "code",
      "execution_count": null,
      "metadata": {
        "id": "PzlCfga0NREg"
      },
      "outputs": [],
      "source": [
        "ages += {'Ahmad': 31}"
      ]
    },
    {
      "cell_type": "code",
      "execution_count": null,
      "metadata": {
        "id": "eT4SKdZfNREg"
      },
      "outputs": [],
      "source": [
        "ages['Ahmad']=31   # Adding New Element"
      ]
    },
    {
      "cell_type": "code",
      "execution_count": null,
      "metadata": {
        "id": "UbtCeH-KNREh"
      },
      "outputs": [],
      "source": [
        "ages"
      ]
    },
    {
      "cell_type": "code",
      "execution_count": null,
      "metadata": {
        "id": "G2y3VgrvNREh"
      },
      "outputs": [],
      "source": [
        "ages[1]"
      ]
    },
    {
      "cell_type": "code",
      "execution_count": null,
      "metadata": {
        "id": "V9B54AMFNREh"
      },
      "outputs": [],
      "source": [
        "ages['Maryam']"
      ]
    },
    {
      "cell_type": "code",
      "execution_count": null,
      "metadata": {
        "id": "pMR_wu6cNREh"
      },
      "outputs": [],
      "source": [
        "mydict={}"
      ]
    },
    {
      "cell_type": "code",
      "execution_count": null,
      "metadata": {
        "id": "tiffl3fgNREh"
      },
      "outputs": [],
      "source": [
        "mydict['Fruits']= ['Apple', 'Orange', 'Banana']\n",
        "mydict['Vegetables']= ('Tomato','Beans')"
      ]
    },
    {
      "cell_type": "code",
      "execution_count": null,
      "metadata": {
        "id": "uN-HqUBuNREh"
      },
      "outputs": [],
      "source": [
        "mydict"
      ]
    },
    {
      "cell_type": "code",
      "execution_count": null,
      "metadata": {
        "id": "R0bSOSEmNREh"
      },
      "outputs": [],
      "source": [
        "bad_dict = {2: \"one two three\"}"
      ]
    },
    {
      "cell_type": "code",
      "execution_count": null,
      "metadata": {
        "id": "79uEtbECNREh"
      },
      "outputs": [],
      "source": [
        "# What is the result of this code?\n",
        "primes = {1: 2, 2: 3, 4: 7, 7:17}\n",
        "print(primes[primes[4]])"
      ]
    },
    {
      "cell_type": "code",
      "execution_count": null,
      "metadata": {
        "id": "FkK3haIfNREh"
      },
      "outputs": [],
      "source": [
        "# To determine whether a key is in a dictionary, you can use (in) and (not in), as you can use them for a list.\n",
        "ages"
      ]
    },
    {
      "cell_type": "code",
      "execution_count": null,
      "metadata": {
        "id": "SOpBC4Q3NREi"
      },
      "outputs": [],
      "source": [
        "'Ahmad' in ages   # Lookup for a key"
      ]
    },
    {
      "cell_type": "code",
      "execution_count": null,
      "metadata": {
        "id": "TIuLyiH-NREi"
      },
      "outputs": [],
      "source": [
        "42 in ages"
      ]
    },
    {
      "cell_type": "code",
      "source": [
        "my_dict = {'name': 'Ali', 'age': 30, 'power': False}\n",
        "my_dict['power']  "
      ],
      "metadata": {
        "id": "R27SZopfp2Rs"
      },
      "execution_count": null,
      "outputs": []
    },
    {
      "cell_type": "code",
      "source": [
        "del my_dict['name']\n",
        "my_dict"
      ],
      "metadata": {
        "id": "DdZjtFJ4p29L"
      },
      "execution_count": null,
      "outputs": []
    },
    {
      "cell_type": "code",
      "source": [
        "my_dict.pop('age', None)\n",
        "my_dict"
      ],
      "metadata": {
        "id": "1O7SKUCup2_s"
      },
      "execution_count": null,
      "outputs": []
    },
    {
      "cell_type": "code",
      "source": [
        "my_dict.pop('number', None)"
      ],
      "metadata": {
        "id": "-dgQyRRiuDYx"
      },
      "execution_count": null,
      "outputs": []
    },
    {
      "cell_type": "code",
      "source": [
        "my_dict"
      ],
      "metadata": {
        "id": "mu4e4WXvuGnR"
      },
      "execution_count": null,
      "outputs": []
    },
    {
      "cell_type": "markdown",
      "metadata": {
        "id": "NTWwZ11JNREi"
      },
      "source": [
        "## (8) Sets\n"
      ]
    },
    {
      "cell_type": "markdown",
      "source": [
        "\n",
        ">* Sets are an unordered collection of __*unique*__ elements.\n",
        "* We can construct them by using the set() function. "
      ],
      "metadata": {
        "id": "SUCDHBHTPmAs"
      }
    },
    {
      "cell_type": "code",
      "execution_count": null,
      "metadata": {
        "id": "3tKNjf6vNREi"
      },
      "outputs": [],
      "source": [
        "x = set()"
      ]
    },
    {
      "cell_type": "code",
      "execution_count": null,
      "metadata": {
        "id": "AEFdXrwKNREi"
      },
      "outputs": [],
      "source": [
        "# We add to sets with the add() method\n",
        "x.add(1)\n",
        "x.add(2)"
      ]
    },
    {
      "cell_type": "code",
      "execution_count": null,
      "metadata": {
        "id": "XXxGFARCNREi"
      },
      "outputs": [],
      "source": [
        "x"
      ]
    },
    {
      "cell_type": "code",
      "execution_count": null,
      "metadata": {
        "id": "QLaOgayoNREi"
      },
      "outputs": [],
      "source": [
        "x.add(1)\n",
        "x"
      ]
    },
    {
      "cell_type": "code",
      "execution_count": null,
      "metadata": {
        "id": "V5ZPsZlvNREi"
      },
      "outputs": [],
      "source": [
        "# Create a list with repeats\n",
        "list1 = [1,1,2,2,3,4,5,6,1,1]\n",
        "set(list1)"
      ]
    },
    {
      "cell_type": "code",
      "source": [
        "set1 = {1,2,3}\n",
        "set2 = {3,4,5}"
      ],
      "metadata": {
        "id": "oCCsBf5WqZqV"
      },
      "execution_count": null,
      "outputs": []
    },
    {
      "cell_type": "code",
      "source": [
        "set1.union(set2)            "
      ],
      "metadata": {
        "id": "GsXZPsWgqZtE"
      },
      "execution_count": null,
      "outputs": []
    },
    {
      "cell_type": "code",
      "source": [
        "set1.intersection(set2)       "
      ],
      "metadata": {
        "id": "89-NLzrdqZvm"
      },
      "execution_count": null,
      "outputs": []
    },
    {
      "cell_type": "code",
      "source": [
        "set2.difference(set1)          "
      ],
      "metadata": {
        "id": "ri0-ggt2qZyW"
      },
      "execution_count": null,
      "outputs": []
    },
    {
      "cell_type": "code",
      "source": [
        "set1.issubset(set2)                  "
      ],
      "metadata": {
        "id": "uDf6zIqeqZ3h"
      },
      "execution_count": null,
      "outputs": []
    },
    {
      "cell_type": "code",
      "source": [
        "set1.issuperset(set2)               "
      ],
      "metadata": {
        "id": "2_mNwvRbqZ6E"
      },
      "execution_count": null,
      "outputs": []
    },
    {
      "cell_type": "markdown",
      "metadata": {
        "id": "hL8i4URrNREi"
      },
      "source": [
        "## Congratulations\n"
      ]
    },
    {
      "cell_type": "markdown",
      "source": [
        "> ### By the end of Part (1), you have learnt:\n",
        "### (0) Your First Program\n",
        "### (1) Simple Operations\n",
        "### (2) Data Structures (objects)\n",
        "### (3) Assignment ( Variables and Values)\n",
        "### (4) Strings\n",
        "### (5) Lists\n",
        "### (6) Tuples\n",
        "### (7) Dictionaries\n",
        "### (8) Sets"
      ],
      "metadata": {
        "id": "TAOskXTpPZQO"
      }
    },
    {
      "cell_type": "markdown",
      "metadata": {
        "id": "2_SiG78pNREi"
      },
      "source": [
        "### Refrences:\n",
        "* [Solo Learn](https://www.sololearn.com/Course/Python/)\n",
        "* [Complete Python 3 Bootcamp on github](https://github.com/Pierian-Data/Complete-Python-3-Bootcamp)\n",
        "* [MIT 6.0001: Introduction to Computer Science and Programming in Python](https://ocw.mit.edu/courses/electrical-engineering-and-computer-science/6-0001-introduction-to-computer-science-and-programming-in-python-fall-2016/)"
      ]
    },
    {
      "cell_type": "markdown",
      "source": [
        "# Part (2): Python Statements"
      ],
      "metadata": {
        "id": "edVG0f32mcGI"
      }
    },
    {
      "cell_type": "markdown",
      "source": [
        "Python Statements\n",
        "> This is actually your first real step towards Programming!\n",
        "* You can say that in Part (1), you learn ABC and some basic words of programming using Python, and now it is time to learn __*statements*__ or __*Control Flow*__"
      ],
      "metadata": {
        "id": "M-IppP0zmjuI"
      }
    },
    {
      "cell_type": "markdown",
      "source": [
        "## (1) Conditional Statements (Branching)\n",
        "\n",
        "> __*Perform*__ an __*action*__ based on a __*check*__"
      ],
      "metadata": {
        "id": "USnMQnmWmn4v"
      }
    },
    {
      "cell_type": "code",
      "source": [
        "# Remember a check ??\n",
        "5 > 6"
      ],
      "metadata": {
        "id": "RUMLwW5Cmbeq"
      },
      "execution_count": null,
      "outputs": []
    },
    {
      "cell_type": "code",
      "source": [
        "a= 10\n",
        "b= 7\n",
        "a!=b"
      ],
      "metadata": {
        "id": "5h2UW5OvmfA2"
      },
      "execution_count": null,
      "outputs": []
    },
    {
      "cell_type": "markdown",
      "source": [
        "### if Condition"
      ],
      "metadata": {
        "id": "GHpHkcaVnJf_"
      }
    },
    {
      "cell_type": "markdown",
      "source": [
        "![image.png](data:image/png;base64,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)"
      ],
      "metadata": {
        "id": "6uD8HhxSnPVX"
      }
    },
    {
      "cell_type": "code",
      "source": [
        "a= 5\n",
        "b= 10\n",
        "if a==b:\n",
        "    print('a equals b')    # Indentation in python\n",
        "    print('Good')\n",
        "\n",
        "\n",
        "print('Done') "
      ],
      "metadata": {
        "id": "XxvKK6bnnGZ4"
      },
      "execution_count": null,
      "outputs": []
    },
    {
      "cell_type": "markdown",
      "source": [
        "### if - else "
      ],
      "metadata": {
        "id": "EVy6saLrnezw"
      }
    },
    {
      "cell_type": "markdown",
      "source": [
        "![image.png](data:image/png;base64,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)"
      ],
      "metadata": {
        "id": "AtI-FtgYnnKB"
      }
    },
    {
      "cell_type": "code",
      "source": [
        "a= 10\n",
        "b= 10\n",
        "if a==b:\n",
        "    print('a equals b')\n",
        "else:\n",
        "    print( 'a is not equal to b')\n",
        "    \n",
        "print('Done') "
      ],
      "metadata": {
        "id": "0B0mgD21ncmg"
      },
      "execution_count": null,
      "outputs": []
    },
    {
      "cell_type": "markdown",
      "source": [
        "### Multiple Branches\n"
      ],
      "metadata": {
        "id": "TVeToiqOntZ_"
      }
    },
    {
      "cell_type": "code",
      "source": [
        "num1 = float(input('Enter a number: '))\n",
        "num2 = float(input('Enter another number: '))\n",
        "\n",
        "if num1 > num2:\n",
        "    print('The first number is greater than the second number')\n",
        "elif num1 < num2:\n",
        "    print('The first number is smaller than the second number')\n",
        "else:\n",
        "    print('The first number is equal to the second number')"
      ],
      "metadata": {
        "id": "JsaB54ScnrmP"
      },
      "execution_count": null,
      "outputs": []
    },
    {
      "cell_type": "markdown",
      "source": [
        "### Simple Calculator"
      ],
      "metadata": {
        "id": "bBWG0O35n0TI"
      }
    },
    {
      "cell_type": "code",
      "source": [
        "num1 = float(input('Enter a number: '))\n",
        "num2 = float(input('Enter another number: '))\n",
        "operator= input('Enter the required operation:\\n\"+\" for adding,\"-\" for subtracting, \"*\" for multiplication, \"/\" for dividing: ' )\n",
        "\n",
        "if operator =='+':\n",
        "    result = num1 + num2\n",
        "elif operator =='-':\n",
        "    result = num1 - num2\n",
        "elif operator =='*':\n",
        "    result = num1 * num2\n",
        "elif operator =='/':\n",
        "    result = num1 / num2\n",
        "else:\n",
        "    result = 'False operation'\n",
        "\n",
        "print(result)"
      ],
      "metadata": {
        "id": "e5_i5yNdnu6n"
      },
      "execution_count": null,
      "outputs": []
    },
    {
      "cell_type": "markdown",
      "source": [
        "### Nested if"
      ],
      "metadata": {
        "id": "vIWvwv9Rn6B4"
      }
    },
    {
      "cell_type": "code",
      "source": [
        "num = int(input('Enter an integer number: '))\n",
        "if num >= 10:\n",
        "   if num <=100:\n",
        "        print(\"Between 10 and 100\")\n",
        "   else:\n",
        "        print('More than 100')\n",
        "else:\n",
        "    print('Less than 10')\n",
        "\n",
        "print('Done')\n",
        "        "
      ],
      "metadata": {
        "id": "lNJG3LhJn6Wn"
      },
      "execution_count": null,
      "outputs": []
    },
    {
      "cell_type": "code",
      "source": [
        "num = int(input('Enter an integer number: '))\n",
        "if (num >= 10 and num <=100):\n",
        "    print(\"Between 10 and 100\")\n",
        "elif num > 100:\n",
        "    print('More than 100')\n",
        "else:\n",
        "    print('Less than 10')\n",
        "\n",
        "print('Done')"
      ],
      "metadata": {
        "id": "diIJggGSn8KQ"
      },
      "execution_count": null,
      "outputs": []
    },
    {
      "cell_type": "code",
      "source": [
        ""
      ],
      "metadata": {
        "id": "dz7Pgbiin-1w"
      },
      "execution_count": null,
      "outputs": []
    },
    {
      "cell_type": "markdown",
      "source": [
        "## (2) Iterative Statements \n"
      ],
      "metadata": {
        "id": "jaJ6T-65oDGf"
      }
    },
    {
      "cell_type": "markdown",
      "source": [
        "\n",
        "> __*Repeat*__ an __*action*__ based on a __*check*__"
      ],
      "metadata": {
        "id": "1D0EUmwQoLpI"
      }
    },
    {
      "cell_type": "markdown",
      "source": [
        "### While Loop"
      ],
      "metadata": {
        "id": "kjOL6Gt2oOHv"
      }
    },
    {
      "cell_type": "code",
      "source": [
        "# print Numbers from 1 to 10\n",
        "print(1)\n",
        "print(2)\n",
        "print(3)\n",
        "print(4)\n",
        "print(5)\n",
        "print(6)\n",
        "print(7)\n",
        "print(8)\n",
        "print(9)\n",
        "print(10)"
      ],
      "metadata": {
        "id": "YwbUb3y-oDxh"
      },
      "execution_count": null,
      "outputs": []
    },
    {
      "cell_type": "code",
      "source": [
        "num =1    # counter\n",
        "while num <= 10:\n",
        "    print(num)\n",
        "    num +=1   # very important \n",
        "    \n",
        "print('Done')    "
      ],
      "metadata": {
        "id": "KtcLTxoBoOoH"
      },
      "execution_count": null,
      "outputs": []
    },
    {
      "cell_type": "markdown",
      "source": [
        "![image.png](data:image/png;base64,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)"
      ],
      "metadata": {
        "id": "nfz28hJ0oa45"
      }
    },
    {
      "cell_type": "markdown",
      "source": [
        "#### break\n",
        "> Breaks out of the current closest enclosing loop.\n"
      ],
      "metadata": {
        "id": "_Zfla2MWu-Gp"
      }
    },
    {
      "cell_type": "code",
      "source": [
        "num =1    \n",
        "while num <=10:\n",
        "    if num == 6:\n",
        "        break\n",
        "    print(num)\n",
        "    num +=1   \n",
        "     \n",
        "print('Done') "
      ],
      "metadata": {
        "id": "eOCbkL0RoTHA"
      },
      "execution_count": null,
      "outputs": []
    },
    {
      "cell_type": "markdown",
      "source": [
        "#### continue\n",
        "> Goes to the top of the closest enclosing loop"
      ],
      "metadata": {
        "id": "0LGkeVoDvCaJ"
      }
    },
    {
      "cell_type": "code",
      "source": [
        "num =1    \n",
        "while num <=10:\n",
        "    if num == 6:\n",
        "        num+=1\n",
        "        continue\n",
        "    print(num)\n",
        "    num +=1    \n",
        "print('Done') "
      ],
      "metadata": {
        "id": "XxyeSaD5vAIx"
      },
      "execution_count": null,
      "outputs": []
    },
    {
      "cell_type": "markdown",
      "source": [
        "#### pass\n",
        ">  Does nothing at all"
      ],
      "metadata": {
        "id": "ebWR2rtcvVyK"
      }
    },
    {
      "cell_type": "code",
      "source": [
        "num =1    \n",
        "while num <=10:\n",
        "    if num == 6:\n",
        "        pass\n",
        "    print(num)\n",
        "    num +=1    \n",
        "print('Done') "
      ],
      "metadata": {
        "id": "uPNQubFuvDEH"
      },
      "execution_count": null,
      "outputs": []
    },
    {
      "cell_type": "markdown",
      "source": [
        "### For Loop"
      ],
      "metadata": {
        "id": "eaxoHaTKvi3f"
      }
    },
    {
      "cell_type": "markdown",
      "source": [
        "![image.png](data:image/png;base64,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)"
      ],
      "metadata": {
        "id": "al7LFW_rv65C"
      }
    },
    {
      "cell_type": "code",
      "source": [
        "words = [\"hello\", \"hi\", \"good morning\", \"good night\", 1] \n",
        "\n",
        "for index in range(0,len(words)):\n",
        "   print(words[index] )"
      ],
      "metadata": {
        "id": "ToK3WannvpfJ"
      },
      "execution_count": null,
      "outputs": []
    },
    {
      "cell_type": "code",
      "source": [
        "for word in words:\n",
        "   print(word )"
      ],
      "metadata": {
        "id": "Klezy0wPCi3s"
      },
      "execution_count": null,
      "outputs": []
    },
    {
      "cell_type": "markdown",
      "source": [
        "### range\n",
        ">range(start,stop,step)\n",
        "* default values are start = 0 and step = 1 \n",
        "* loop until value is stop - 1"
      ],
      "metadata": {
        "id": "_GKcYJzgwAqz"
      }
    },
    {
      "cell_type": "code",
      "source": [
        "# print Numbers from 1 to 10\n",
        "for num in range (1,11):\n",
        "    print(num)"
      ],
      "metadata": {
        "id": "cfwb6ZoUv9J6"
      },
      "execution_count": null,
      "outputs": []
    },
    {
      "cell_type": "code",
      "source": [
        "for num in range (1,11):\n",
        "    if num == 6:\n",
        "        continue\n",
        "    print(num)"
      ],
      "metadata": {
        "id": "wsz1KAzNwEur"
      },
      "execution_count": null,
      "outputs": []
    },
    {
      "cell_type": "code",
      "source": [
        "for num in range (1,11):\n",
        "    if num == 6:\n",
        "        break\n",
        "    print(num)"
      ],
      "metadata": {
        "id": "ATOiyUshwGMB"
      },
      "execution_count": null,
      "outputs": []
    },
    {
      "cell_type": "markdown",
      "source": [
        "### Calculator again ! but *modified*\n",
        "\n",
        "\n",
        "\n"
      ],
      "metadata": {
        "id": "iiV-vaF5wsB5"
      }
    },
    {
      "cell_type": "code",
      "source": [
        "while True:\n",
        "    num1 = float(input('Enter a number: '))\n",
        "    num2 = float(input('Enter another number: '))\n",
        "    operator= input('Enter the required operation:\"+\" for adding,\"-\" for subtracting, \"*\" for multiplication, \"/\" for dividing: ' )\n",
        "\n",
        "    if operator =='+':\n",
        "        print('{} {} {} = {}'.format(num1,operator,num2, num1+num2))\n",
        "    elif operator =='-':\n",
        "        print('{} {} {} = {}'.format(num1,operator,num2, num1-num2))\n",
        "    elif operator =='*':\n",
        "        print('{} {} {} = {}'.format(num1,operator,num2, num1*num2))\n",
        "    elif operator =='/':\n",
        "        print('{} {} {} = {}'.format(num1,operator,num2, num1/num2))\n",
        "    else:\n",
        "        print('False operation')\n",
        "        \n",
        "    repeat= input(' Enter \"y\" for another operation or another key to break: ')\n",
        "    if repeat =='y':\n",
        "        continue\n",
        "    else:\n",
        "        break\n",
        "\n"
      ],
      "metadata": {
        "id": "DGCxE-ZFwH0J"
      },
      "execution_count": null,
      "outputs": []
    },
    {
      "cell_type": "markdown",
      "source": [
        "### for loop with different data structures:"
      ],
      "metadata": {
        "id": "4YN8W7Cq6_fZ"
      }
    },
    {
      "cell_type": "code",
      "source": [
        "# with strings\n",
        "for _ in 'Hello':\n",
        "    print(_)"
      ],
      "metadata": {
        "id": "sJZpZrea6h9T"
      },
      "execution_count": null,
      "outputs": []
    },
    {
      "cell_type": "code",
      "source": [
        "# with lists\n",
        "for i in [2,4,6,8]:\n",
        "    print(i)"
      ],
      "metadata": {
        "id": "0-A_EwA06nMr"
      },
      "execution_count": null,
      "outputs": []
    },
    {
      "cell_type": "code",
      "source": [
        "# with tuples\n",
        "tup = ((2,4),[6,8],(10,12))\n",
        "for i in tup:\n",
        "    print(i)"
      ],
      "metadata": {
        "id": "J-nOpJmr7GVy"
      },
      "execution_count": null,
      "outputs": []
    },
    {
      "cell_type": "code",
      "source": [
        "# with dictionaries:\n",
        "dic= {'Name': 'Anas', 'Age': 4, 'Level': 1}"
      ],
      "metadata": {
        "id": "1lT-UakT7HvS"
      },
      "execution_count": null,
      "outputs": []
    },
    {
      "cell_type": "code",
      "source": [
        "for i in dic:\n",
        "    print(i)"
      ],
      "metadata": {
        "id": "1PbHZIYM7JXT"
      },
      "execution_count": null,
      "outputs": []
    },
    {
      "cell_type": "code",
      "source": [
        "for i in dic.keys():\n",
        "    print(i)"
      ],
      "metadata": {
        "id": "lGW0FyJw7KrK"
      },
      "execution_count": null,
      "outputs": []
    },
    {
      "cell_type": "code",
      "source": [
        "for i in dic.values():\n",
        "    print(i)"
      ],
      "metadata": {
        "id": "4alhagoH7L6K"
      },
      "execution_count": null,
      "outputs": []
    },
    {
      "cell_type": "code",
      "source": [
        "for i in dic.items():\n",
        "    print(i)"
      ],
      "metadata": {
        "id": "8WQq2oX-7NTr"
      },
      "execution_count": null,
      "outputs": []
    },
    {
      "cell_type": "code",
      "source": [
        "for (k,v) in dic.items():\n",
        "    print(k)"
      ],
      "metadata": {
        "id": "3kfsTdho7OoK"
      },
      "execution_count": null,
      "outputs": []
    },
    {
      "cell_type": "code",
      "source": [
        "for k,v in dic.items():\n",
        "    print(v)"
      ],
      "metadata": {
        "id": "xXNelGJk7RB1"
      },
      "execution_count": null,
      "outputs": []
    },
    {
      "cell_type": "code",
      "source": [
        "for k,v in dic.items():\n",
        "    print('{} >> {}'.format(k,v))"
      ],
      "metadata": {
        "id": "F7A-DLIC7SSa"
      },
      "execution_count": null,
      "outputs": []
    },
    {
      "cell_type": "markdown",
      "source": [
        "### List Comprehension"
      ],
      "metadata": {
        "id": "ftzVj9rq9Pk0"
      }
    },
    {
      "cell_type": "code",
      "source": [
        "l=[]\n",
        "for letter in 'Hello':\n",
        "    l.append(letter)\n",
        "l    "
      ],
      "metadata": {
        "id": "39MQKfPLFLs1"
      },
      "execution_count": null,
      "outputs": []
    },
    {
      "cell_type": "code",
      "source": [
        "[letter for letter in 'Hello']"
      ],
      "metadata": {
        "id": "nhXF4ESx9Sti"
      },
      "execution_count": null,
      "outputs": []
    },
    {
      "cell_type": "code",
      "source": [
        "[num for num in range(11)]"
      ],
      "metadata": {
        "id": "ZGyMpdaH9UfS"
      },
      "execution_count": null,
      "outputs": []
    },
    {
      "cell_type": "code",
      "source": [
        "[num**2 for num in range(1,11)]"
      ],
      "metadata": {
        "id": "XtyCiQ5L9W4L"
      },
      "execution_count": null,
      "outputs": []
    },
    {
      "cell_type": "code",
      "source": [
        "lst=[]\n",
        "for num in range(1,11):\n",
        "    lst.append(num**2)\n",
        "lst    "
      ],
      "metadata": {
        "id": "y5AL_Oq-9YSD"
      },
      "execution_count": null,
      "outputs": []
    },
    {
      "cell_type": "code",
      "source": [
        "[num**2 for num in range(11) if num % 2 == 0]"
      ],
      "metadata": {
        "id": "_AlP7hlG9a9y"
      },
      "execution_count": null,
      "outputs": []
    },
    {
      "cell_type": "code",
      "source": [
        "# Convert Celsius to Fahrenheit\n",
        "celsius = range(10)\n",
        "\n",
        "fahrenheit = [((9/5)*temp + 32) for temp in celsius ]\n",
        "\n",
        "fahrenheit"
      ],
      "metadata": {
        "id": "lfTW8UMG9cb7"
      },
      "execution_count": null,
      "outputs": []
    },
    {
      "cell_type": "markdown",
      "source": [
        "### enumerate"
      ],
      "metadata": {
        "id": "zxxf2P8m9lxL"
      }
    },
    {
      "cell_type": "code",
      "source": [
        "for i, num in enumerate([10,20,30]):\n",
        "    print(i)"
      ],
      "metadata": {
        "id": "I8dbToJe97-z"
      },
      "execution_count": null,
      "outputs": []
    },
    {
      "cell_type": "code",
      "source": [
        "for i,letter in enumerate('Hello'):\n",
        "    print(\"index {}: {}\".format(i,letter))"
      ],
      "metadata": {
        "id": "BCR3AJZB99tz"
      },
      "execution_count": null,
      "outputs": []
    },
    {
      "cell_type": "code",
      "source": [
        "dic={}\n",
        "for i,letter in enumerate('Hello'):\n",
        "    dic[letter] = i\n",
        "\n",
        "dic"
      ],
      "metadata": {
        "id": "ac8zcG2R9_m6"
      },
      "execution_count": null,
      "outputs": []
    },
    {
      "cell_type": "code",
      "source": [
        "list(enumerate('Hello'))"
      ],
      "metadata": {
        "id": "cwyJmB4b-BQK"
      },
      "execution_count": null,
      "outputs": []
    },
    {
      "cell_type": "markdown",
      "source": [
        "###Exercise\n",
        "**Write a program that prints the integers from 1 to 100. But for multiples of three print \"Fizz\" instead of the number, and for the multiples of five print \"Buzz\". For numbers which are multiples of both three and five print \"FizzBuzz\".**"
      ],
      "metadata": {
        "id": "tTEyBAJdssYE"
      }
    },
    {
      "cell_type": "code",
      "source": [
        ""
      ],
      "metadata": {
        "id": "9xE0t4Vbssqk"
      },
      "execution_count": null,
      "outputs": []
    },
    {
      "cell_type": "markdown",
      "source": [
        "## Congratulations Again !\n"
      ],
      "metadata": {
        "id": "ZCgBgSTTcTUo"
      }
    },
    {
      "cell_type": "markdown",
      "source": [
        "> ### By the end of Part (2), you have learnt:\n",
        "### (1) Conditional Statements\n",
        "        * if - elif - else\n",
        "        * Multiple Branches\n",
        "        * Nested if\n",
        "### (2) Iterative Statements\n",
        "        * While\n",
        "        * For\n",
        "        * Break\n",
        "        * Continue\n",
        "        * Pass\n",
        "        * Range\n",
        "        * Enumerate\n",
        "        * List Comprehension\n"
      ],
      "metadata": {
        "id": "GOn-3xF4bi4-"
      }
    },
    {
      "cell_type": "markdown",
      "source": [
        "# Part (3): Functions and Modules"
      ],
      "metadata": {
        "id": "2ET_u9K9-frJ"
      }
    },
    {
      "cell_type": "markdown",
      "source": [
        "###Built-in Functions"
      ],
      "metadata": {
        "id": "8uGcGQVdFe-Y"
      }
    },
    {
      "cell_type": "code",
      "source": [
        "list('ALi')"
      ],
      "metadata": {
        "id": "nHjfzktgrV8V"
      },
      "execution_count": null,
      "outputs": []
    },
    {
      "cell_type": "code",
      "source": [
        "int(3.4)"
      ],
      "metadata": {
        "id": "3602-9RBrV_K"
      },
      "execution_count": null,
      "outputs": []
    },
    {
      "cell_type": "code",
      "source": [
        "type(4.5)"
      ],
      "metadata": {
        "id": "4UH8BK-rFbTZ"
      },
      "execution_count": null,
      "outputs": []
    },
    {
      "cell_type": "markdown",
      "source": [
        "### Methods"
      ],
      "metadata": {
        "id": "GYGHOEGLrWJn"
      }
    },
    {
      "cell_type": "code",
      "source": [
        "l=[1,4,5,10,8]\n",
        "l.sort()   # Method\n",
        "l"
      ],
      "metadata": {
        "id": "yHn32VznrWY-"
      },
      "execution_count": null,
      "outputs": []
    },
    {
      "cell_type": "code",
      "source": [
        "sorted(l)  # Function"
      ],
      "metadata": {
        "id": "U-UkGK99F2kq"
      },
      "execution_count": null,
      "outputs": []
    },
    {
      "cell_type": "markdown",
      "source": [
        "**Function** :A block of code that is used more than once."
      ],
      "metadata": {
        "id": "v15rJOphrVxF"
      }
    },
    {
      "cell_type": "code",
      "source": [
        "def greet(name):\n",
        "    return('Hello ' + name)   "
      ],
      "metadata": {
        "id": "lUKRctuV-cYT"
      },
      "execution_count": null,
      "outputs": []
    },
    {
      "cell_type": "code",
      "source": [
        "v = greet('SSSS')"
      ],
      "metadata": {
        "id": "G0hr9jpfrV5l"
      },
      "execution_count": null,
      "outputs": []
    },
    {
      "cell_type": "code",
      "source": [
        "v"
      ],
      "metadata": {
        "id": "4fRUofxfgvCZ"
      },
      "execution_count": null,
      "outputs": []
    },
    {
      "cell_type": "markdown",
      "source": [
        "###User-defined Functions"
      ],
      "metadata": {
        "id": "qsT0ydNkFsrK"
      }
    },
    {
      "cell_type": "code",
      "source": [
        "# Function Definition\n",
        "def absolute(num):   # num : Parameter\n",
        "    if num >= 0:\n",
        "        return num\n",
        "    else:\n",
        "        return -num    "
      ],
      "metadata": {
        "id": "4FQnPHFI-dTq"
      },
      "execution_count": null,
      "outputs": []
    },
    {
      "cell_type": "code",
      "source": [
        "# Function Calling\n",
        "absolute(4)   # 4: Argument"
      ],
      "metadata": {
        "id": "2awSkuCkGxYO"
      },
      "execution_count": null,
      "outputs": []
    },
    {
      "cell_type": "code",
      "source": [
        "absolute(-5)"
      ],
      "metadata": {
        "id": "O4TjOfLbGzdY"
      },
      "execution_count": null,
      "outputs": []
    },
    {
      "cell_type": "code",
      "source": [
        "def circle_area(radius):\n",
        "    \"\"\"\n",
        "    Function circle_area : calculates the area of circle\n",
        "    Input: radius: the radius of circle\n",
        "    Return: the area of circle\n",
        "    \"\"\"\n",
        "    return 3.14 * (radius**2)"
      ],
      "metadata": {
        "id": "bGNb0_eaG1y5"
      },
      "execution_count": null,
      "outputs": []
    },
    {
      "cell_type": "code",
      "source": [
        "circle_area(10)"
      ],
      "metadata": {
        "id": "dX2Ubw0cHcwo"
      },
      "execution_count": null,
      "outputs": []
    },
    {
      "cell_type": "code",
      "source": [
        "def circle_area(radius, PI = 3.14):\n",
        "    \"\"\"\n",
        "    Function circle_area : calculates the area of circle\n",
        "    Input: radius: the radius of circle\n",
        "    Return: the area of circle\n",
        "    \"\"\"\n",
        "    return PI * (radius**2)"
      ],
      "metadata": {
        "id": "ibze8_I94Wav"
      },
      "execution_count": null,
      "outputs": []
    },
    {
      "cell_type": "code",
      "source": [
        "print(circle_area.__doc__)"
      ],
      "metadata": {
        "id": "zQTB9HBIHfGf"
      },
      "execution_count": null,
      "outputs": []
    },
    {
      "cell_type": "code",
      "source": [
        "print(print.__doc__)"
      ],
      "metadata": {
        "id": "qmKJIoVXH0nJ"
      },
      "execution_count": null,
      "outputs": []
    },
    {
      "cell_type": "markdown",
      "source": [
        "### Sample Calculator:"
      ],
      "metadata": {
        "id": "Qc473bJxJMYA"
      }
    },
    {
      "cell_type": "code",
      "source": [
        "def calculate(num1,num2,operator):\n",
        "    \"\"\"\n",
        "    Simple Calculator\n",
        "    Input: num1: First Number\n",
        "           num2: Second Number\n",
        "           operator: one of the following mathematical operations: '+', '-', '*', '/'\n",
        "    Return: the result of thwe mathematical operation\n",
        "    \"\"\"\n",
        "    if operator =='+':\n",
        "        result = num1 + num2\n",
        "    elif operator =='-':\n",
        "        result = num1 - num2\n",
        "    elif operator =='*':\n",
        "        result = num1 * num2\n",
        "    elif operator =='/':\n",
        "        result = num1 / num2\n",
        "    else:\n",
        "        result = 'False operation'\n",
        "\n",
        "    return(result)"
      ],
      "metadata": {
        "id": "7_tcBaGGIGxC"
      },
      "execution_count": null,
      "outputs": []
    },
    {
      "cell_type": "code",
      "source": [
        "calculate(5,10,'*')"
      ],
      "metadata": {
        "id": "rsBf1QEJJBCp"
      },
      "execution_count": null,
      "outputs": []
    },
    {
      "cell_type": "code",
      "source": [
        "calculate(23,12,'/')"
      ],
      "metadata": {
        "id": "vyUC41vUJHmR"
      },
      "execution_count": null,
      "outputs": []
    },
    {
      "cell_type": "markdown",
      "source": [
        "### \\*Args & **Kwargs:"
      ],
      "metadata": {
        "id": "HDah2EP7JZez"
      }
    },
    {
      "cell_type": "markdown",
      "source": [
        "* (\\*args): You can pass undefined length of a sequence arguments using *param_name\n",
        "\n",
        "* (\\*\\*kwargs): You can pass undefined length of key-value pairs using **param_name"
      ],
      "metadata": {
        "id": "mT79Nm7BJfoa"
      }
    },
    {
      "cell_type": "code",
      "source": [
        "def mean(*nums):\n",
        "    return sum(nums)/len(nums)"
      ],
      "metadata": {
        "id": "gau9OUQgJVVZ"
      },
      "execution_count": null,
      "outputs": []
    },
    {
      "cell_type": "code",
      "source": [
        "mean(1,2,3,4,5)"
      ],
      "metadata": {
        "id": "iC-kbew0KJGi"
      },
      "execution_count": null,
      "outputs": []
    },
    {
      "cell_type": "code",
      "source": [
        "mean(*(range(100)))"
      ],
      "metadata": {
        "id": "l6_WrwSpKLmp"
      },
      "execution_count": null,
      "outputs": []
    },
    {
      "cell_type": "code",
      "source": [
        "def data(**user):\n",
        "    return user['age']"
      ],
      "metadata": {
        "id": "lUsEigcfNmf5"
      },
      "execution_count": null,
      "outputs": []
    },
    {
      "cell_type": "code",
      "source": [
        "data(name='ahmed', age= 31, address= 'ABC', hope= 'football')"
      ],
      "metadata": {
        "id": "Ky8jvJAjNmia"
      },
      "execution_count": null,
      "outputs": []
    },
    {
      "cell_type": "markdown",
      "source": [
        "### Scope"
      ],
      "metadata": {
        "id": "uwifsydNNfxU"
      }
    },
    {
      "cell_type": "code",
      "source": [
        "v=5\n",
        "\n",
        "def No_change_v(n):\n",
        "    v =n    # Local Change\n",
        "    return v"
      ],
      "metadata": {
        "id": "Yt4MWW1FKOl5"
      },
      "execution_count": null,
      "outputs": []
    },
    {
      "cell_type": "code",
      "source": [
        "No_change_v(50)"
      ],
      "metadata": {
        "id": "b9CzvgS6PX9G"
      },
      "execution_count": null,
      "outputs": []
    },
    {
      "cell_type": "code",
      "source": [
        "v"
      ],
      "metadata": {
        "id": "9Xc9xuR6PZ93"
      },
      "execution_count": null,
      "outputs": []
    },
    {
      "cell_type": "code",
      "source": [
        "def change_v(n):\n",
        "    global v\n",
        "    v =n     # Global Change\n",
        "    return v"
      ],
      "metadata": {
        "id": "d5oQ-ccXPao1"
      },
      "execution_count": null,
      "outputs": []
    },
    {
      "cell_type": "code",
      "source": [
        "change_v(50)"
      ],
      "metadata": {
        "id": "RSZxAK_RQYGh"
      },
      "execution_count": null,
      "outputs": []
    },
    {
      "cell_type": "code",
      "source": [
        "v"
      ],
      "metadata": {
        "id": "SP54yRSoQZjH"
      },
      "execution_count": null,
      "outputs": []
    },
    {
      "cell_type": "code",
      "source": [
        "x = 5\n",
        "\n",
        "def foo():\n",
        "\n",
        "    x = 10\n",
        "    print(\"local x:\", x)\n",
        "\n",
        "\n",
        "foo()\n",
        "print(\"global x:\", x)"
      ],
      "metadata": {
        "id": "zIcfyRLsQa3I"
      },
      "execution_count": null,
      "outputs": []
    },
    {
      "cell_type": "code",
      "source": [
        ""
      ],
      "metadata": {
        "id": "usD2xjG4YslH"
      },
      "execution_count": null,
      "outputs": []
    },
    {
      "cell_type": "markdown",
      "source": [
        "###Modules"
      ],
      "metadata": {
        "id": "djmJkEZO6KpH"
      }
    },
    {
      "cell_type": "markdown",
      "source": [
        "My Module"
      ],
      "metadata": {
        "id": "XXCVDUuCl3_b"
      }
    },
    {
      "cell_type": "code",
      "source": [
        "# My_Module.py\n",
        "def f1():\n",
        "    pass\n",
        "def f2():\n",
        "    pass\n",
        "def f3():\n",
        "    pass        "
      ],
      "metadata": {
        "id": "-GkSrqPSl5wp"
      },
      "execution_count": null,
      "outputs": []
    },
    {
      "cell_type": "code",
      "source": [
        "import My_Module"
      ],
      "metadata": {
        "id": "oD1IZUPnmG7C"
      },
      "execution_count": null,
      "outputs": []
    },
    {
      "cell_type": "code",
      "source": [
        "from My_Module import f1, f3"
      ],
      "metadata": {
        "id": "OiVqSO8GmW2L"
      },
      "execution_count": null,
      "outputs": []
    },
    {
      "cell_type": "code",
      "source": [
        "import math"
      ],
      "metadata": {
        "id": "f6XtBC866NQk"
      },
      "execution_count": null,
      "outputs": []
    },
    {
      "cell_type": "code",
      "source": [
        "math.sqrt(9)"
      ],
      "metadata": {
        "id": "iVfjkhCa6OfQ"
      },
      "execution_count": null,
      "outputs": []
    },
    {
      "cell_type": "code",
      "source": [
        "math.pi"
      ],
      "metadata": {
        "id": "LY-0nMNc6Oiu"
      },
      "execution_count": null,
      "outputs": []
    },
    {
      "cell_type": "code",
      "source": [
        "math.e"
      ],
      "metadata": {
        "id": "jTYHJKrM6OlK"
      },
      "execution_count": null,
      "outputs": []
    },
    {
      "cell_type": "code",
      "source": [
        "math.\n"
      ],
      "metadata": {
        "id": "EP7rUxKhHorH"
      },
      "execution_count": null,
      "outputs": []
    },
    {
      "cell_type": "markdown",
      "source": [
        "## Congratulations Again and Again!\n"
      ],
      "metadata": {
        "id": "5BNhghQkmvDc"
      }
    },
    {
      "cell_type": "markdown",
      "source": [
        "> ### By the end of Part (3), you have learnt:\n",
        "### (1) Built-in Functions\n",
        "### (2) Methods\n",
        "### (3) User-defined Function\n",
        "### (4) Args & **Kwargs\n",
        "### (3) Scope\n",
        "### (5) Modules"
      ],
      "metadata": {
        "id": "0zzLsC3bmvDc"
      }
    },
    {
      "cell_type": "markdown",
      "source": [
        "#Part (4): Beyond the basics"
      ],
      "metadata": {
        "id": "L6ReU9ff6Rku"
      }
    },
    {
      "cell_type": "markdown",
      "source": [
        "## Recursion"
      ],
      "metadata": {
        "id": "Bf3nN6ZfBcSK"
      }
    },
    {
      "cell_type": "markdown",
      "source": [
        "Recursion is the process of defining something in terms of itself.\""
      ],
      "metadata": {
        "id": "_GAdxx0u8Usq"
      }
    },
    {
      "cell_type": "markdown",
      "source": [
        "![image.png](data:image/png;base64,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)"
      ],
      "metadata": {
        "id": "R-Aj9RMv8aSj"
      }
    },
    {
      "cell_type": "markdown",
      "source": [
        "3! = 3 * 2* 1\n",
        "5! = 5 * 4 * 3 * !2 \n",
        "5! = 5 * 4 * 3!\n",
        "5! = 5 * !4 "
      ],
      "metadata": {
        "id": "ugLn0iE2qtmU"
      }
    },
    {
      "cell_type": "code",
      "source": [
        "def factorial(x):\n",
        "    \"\"\"This is a recursive function\n",
        "    to find the factorial of an integer\"\"\"\n",
        "\n",
        "    if x == 1:  # Base\n",
        "        return 1\n",
        "    else:\n",
        "        return (x * factorial(x-1))\n",
        "\n",
        "\n",
        "num = 3\n",
        "print(\"The factorial of\", num, \"is\", factorial(num))"
      ],
      "metadata": {
        "id": "tvtaOgu_Bcgg"
      },
      "execution_count": null,
      "outputs": []
    },
    {
      "cell_type": "markdown",
      "source": [
        "## Fruitful Functions"
      ],
      "metadata": {
        "id": "urPJ1fvWAodH"
      }
    },
    {
      "cell_type": "markdown",
      "source": [
        "### zip\n",
        ">* __Syntax__ : zip (*iterators)\n",
        "* __Return Value__ :Returns a single iterator object, having mapped values from all the containers."
      ],
      "metadata": {
        "id": "PaExcQEn-LSb"
      }
    },
    {
      "cell_type": "code",
      "source": [
        "number_list = [1, 2, 3]\n",
        "str_list = ['one', 'two', 'three']\n",
        "list(zip(number_list, str_list))"
      ],
      "metadata": {
        "id": "sJ8GKvFv-YyZ"
      },
      "execution_count": null,
      "outputs": []
    },
    {
      "cell_type": "code",
      "source": [
        "combined_list= list(zip(number_list, str_list))\n",
        "print(combined_list)"
      ],
      "metadata": {
        "id": "rSmSH4b_-bYq"
      },
      "execution_count": null,
      "outputs": []
    },
    {
      "cell_type": "markdown",
      "source": [
        "### Lambda (anonymous functions) "
      ],
      "metadata": {
        "id": "TyzNuy-xAskp"
      }
    },
    {
      "cell_type": "code",
      "source": [
        "def add(num1, num2):\n",
        "    return (num1+ num2)"
      ],
      "metadata": {
        "id": "jrFkYv13AsRn"
      },
      "execution_count": null,
      "outputs": []
    },
    {
      "cell_type": "code",
      "source": [
        "add(3,5)"
      ],
      "metadata": {
        "id": "_rrkqWhJ5BqN"
      },
      "execution_count": null,
      "outputs": []
    },
    {
      "cell_type": "code",
      "source": [
        "(lambda num1,num2: num1 + num2 )(3,5)"
      ],
      "metadata": {
        "id": "EG7KYJF05BtJ"
      },
      "execution_count": null,
      "outputs": []
    },
    {
      "cell_type": "code",
      "source": [
        "add2(1,2)"
      ],
      "metadata": {
        "id": "a5J7Abm55BxD"
      },
      "execution_count": null,
      "outputs": []
    },
    {
      "cell_type": "code",
      "source": [
        "double = lambda x: x*2"
      ],
      "metadata": {
        "id": "9dQg4_Xb6g6V"
      },
      "execution_count": null,
      "outputs": []
    },
    {
      "cell_type": "code",
      "source": [
        "double(3)"
      ],
      "metadata": {
        "id": "Jn6P_sBb6g_t"
      },
      "execution_count": null,
      "outputs": []
    },
    {
      "cell_type": "markdown",
      "source": [
        "### Filter"
      ],
      "metadata": {
        "id": "noamWlD9AygL"
      }
    },
    {
      "cell_type": "markdown",
      "source": [
        "filter ( func , iterator)"
      ],
      "metadata": {
        "id": "MCvzR3BGsuPj"
      }
    },
    {
      "cell_type": "code",
      "source": [
        "# Program to filter out only the even items from a list\n",
        "my_list = [1, 5, 4, 6, 8, 11, 3, 12]\n",
        "\n",
        "new_list = list(filter(lambda x: (x%2 == 0) , my_list))\n",
        "\n",
        "print(new_list)"
      ],
      "metadata": {
        "id": "l2Mc3qpBAomu"
      },
      "execution_count": null,
      "outputs": []
    },
    {
      "cell_type": "markdown",
      "source": [
        "### Map"
      ],
      "metadata": {
        "id": "v27iXzSzA0wx"
      }
    },
    {
      "cell_type": "markdown",
      "source": [
        "filter ( func , iterator)"
      ],
      "metadata": {
        "id": "ZsLav0AEtk4K"
      }
    },
    {
      "cell_type": "code",
      "source": [
        "# Program to double each item in a list using map()\n",
        "\n",
        "my_list = [1, 5, 4, 6, 8, 11, 3, 12]\n",
        "\n",
        "new_list = list(map(lambda x: x * 2 , my_list))\n",
        "\n",
        "print(new_list)"
      ],
      "metadata": {
        "id": "JPRED2jUAosJ"
      },
      "execution_count": null,
      "outputs": []
    },
    {
      "cell_type": "code",
      "source": [
        "nums = input().split()"
      ],
      "metadata": {
        "id": "yDrV0zGR7Y6z"
      },
      "execution_count": null,
      "outputs": []
    },
    {
      "cell_type": "code",
      "source": [
        "nums"
      ],
      "metadata": {
        "id": "nhKiAd2n7g2i"
      },
      "execution_count": null,
      "outputs": []
    },
    {
      "cell_type": "code",
      "source": [
        "map(int, nums)"
      ],
      "metadata": {
        "id": "1fcCHK4R7g7d"
      },
      "execution_count": null,
      "outputs": []
    },
    {
      "cell_type": "code",
      "source": [
        "list(map(int, nums))"
      ],
      "metadata": {
        "id": "Q-zOIBOP7sLd"
      },
      "execution_count": null,
      "outputs": []
    },
    {
      "cell_type": "markdown",
      "source": [
        "### Reduce"
      ],
      "metadata": {
        "id": "JZScfIcQAwJo"
      }
    },
    {
      "cell_type": "code",
      "source": [
        "# importing functools for reduce()\n",
        "from functools import reduce\n",
        " \n",
        "# initializing list\n",
        "nums = [1, 5 , 10 , 20 ]\n",
        " \n",
        "# using reduce to compute sum of list\n",
        "sum = reduce(lambda x,y: x+y , nums)\n",
        "print(sum)\n",
        " \n",
        "# using reduce to compute maximum element from list\n",
        "max= reduce(lambda x, y: x if x>y else y, nums)\n",
        "print(max)"
      ],
      "metadata": {
        "id": "H8eCoaJZAoph"
      },
      "execution_count": null,
      "outputs": []
    },
    {
      "cell_type": "markdown",
      "source": [
        "## Files Handling"
      ],
      "metadata": {
        "id": "3_nCnK7wBSjP"
      }
    },
    {
      "cell_type": "markdown",
      "source": [
        "### Read Files"
      ],
      "metadata": {
        "id": "kVXSQfcdCZRS"
      }
    },
    {
      "cell_type": "code",
      "source": [
        "my_file = open('test.txt')\n",
        "print(my_file.read())"
      ],
      "metadata": {
        "id": "eMyIeIuPvx3c"
      },
      "execution_count": null,
      "outputs": []
    },
    {
      "cell_type": "code",
      "source": [
        "print(my_file.read())"
      ],
      "metadata": {
        "id": "hskdz8uwv8ei"
      },
      "execution_count": null,
      "outputs": []
    },
    {
      "cell_type": "code",
      "source": [
        "my_file = open('test.txt')\n",
        "print(my_file)\n",
        "print(my_file.read())\n",
        "\n",
        "print(my_file.read())   # it won't be printing anything. because the cursor is at the end of the file.\n",
        "\n",
        "print(\"Seek 0\")\n",
        "my_file.seek(0)     # we reset the cursor to the initial position.\n",
        "\n",
        "print(my_file.read())   # and so we can now read the file from the initial position till end.\n",
        "\n",
        "print(\"Seek 0\")\n",
        "my_file.seek(0)"
      ],
      "metadata": {
        "id": "skTOSRQyBTR2"
      },
      "execution_count": null,
      "outputs": []
    },
    {
      "cell_type": "code",
      "source": [
        "print(my_file.readline())   # reads a line and stop the cursor\n",
        "print(my_file.readline())\n",
        "print(my_file.readline())\n",
        "print(my_file.readline())\n",
        "\n",
        "print(\"Seek 0\")\n",
        "my_file.seek(0)\n",
        "\n",
        "print(my_file.readlines()) # store all the lines in a list\n",
        "print(my_file.readlines())\n",
        "\n",
        "my_file.close()"
      ],
      "metadata": {
        "id": "_W7q85ZdBcG3"
      },
      "execution_count": null,
      "outputs": []
    },
    {
      "cell_type": "code",
      "source": [
        "with open ('test.txt') as my_file:\n",
        "    lines = my_file.readlines()\n",
        "print(lines)"
      ],
      "metadata": {
        "id": "DLtTJY7dAQDa"
      },
      "execution_count": null,
      "outputs": []
    },
    {
      "cell_type": "code",
      "source": [
        "with open(\"test.txt\", mode = 'r') as my_file:     # default mode = 'r' ---> read\n",
        "    print(my_file.read())"
      ],
      "metadata": {
        "id": "tMGjWldqAQGP"
      },
      "execution_count": null,
      "outputs": []
    },
    {
      "cell_type": "markdown",
      "source": [
        "### Write and Append"
      ],
      "metadata": {
        "id": "-wDqxkClCUL1"
      }
    },
    {
      "cell_type": "code",
      "source": [
        "with open(\"test.txt\", mode = 'w') as my_file:\n",
        "    text = my_file.write(\"I am HAPPY!\")\n",
        "    print(text)     # it prints the no. of letters written into the file\n",
        "    "
      ],
      "metadata": {
        "id": "VuyWsN7gAQJh"
      },
      "execution_count": null,
      "outputs": []
    },
    {
      "cell_type": "code",
      "source": [
        "with open(\"test.txt\", mode = 'r') as my_file:     # default mode = 'r' ---> read\n",
        "    print(my_file.read())"
      ],
      "metadata": {
        "id": "PPCJ9kMFBzAD"
      },
      "execution_count": null,
      "outputs": []
    },
    {
      "cell_type": "code",
      "source": [
        "with open(\"test.txt\", mode = 'a') as my_file:    # 'a' mode ----> append\n",
        "    text = my_file.write(\"\\nI am HAPPY! again\")\n",
        "    print(text)     # it prints the no. of letters written into the file\n",
        "    "
      ],
      "metadata": {
        "id": "YnL6TTqKBzEB"
      },
      "execution_count": null,
      "outputs": []
    },
    {
      "cell_type": "code",
      "source": [
        "with open(\"test.txt\", mode = 'r') as my_file:     # default mode = 'r' ---> read\n",
        "    print(my_file.read())"
      ],
      "metadata": {
        "id": "CahxJqb4BzGp"
      },
      "execution_count": null,
      "outputs": []
    },
    {
      "cell_type": "markdown",
      "source": [
        "###Notes\n"
      ],
      "metadata": {
        "id": "JaAlZGaLCQND"
      }
    },
    {
      "cell_type": "markdown",
      "source": [
        "\n",
        "```\n",
        "mode = 'w' : it creates a new file and write into it. If there is an exiting file with the same name, it replaces it.\n",
        "mode = 'r' : it is used to read the file\n",
        "mode = 'r+' : it is used to read and write into the file. but it writes from position 0, which might replace some existing text.\n",
        "mode = 'a' : it appends to the existing file. meaning writing to the file keeping the old content intact.\n",
        "             if the file doesn't exist, it creates a new one.\n",
        "if we don't mention the mode, by default it will be considered 'r' mode.\n",
        "with 'with' we don't need to close the file manually.\n",
        "```\n",
        "\n"
      ],
      "metadata": {
        "id": "3TjiwAorCBBB"
      }
    },
    {
      "cell_type": "markdown",
      "source": [
        "## Exception Handling"
      ],
      "metadata": {
        "id": "ewaHpCdv6uWq"
      }
    },
    {
      "cell_type": "code",
      "source": [
        "# NameError\n",
        "print('hello' + n)"
      ],
      "metadata": {
        "id": "14LKTpZg6wZc"
      },
      "execution_count": null,
      "outputs": []
    },
    {
      "cell_type": "code",
      "source": [
        "# ZeroDivisionError\n",
        "100/0"
      ],
      "metadata": {
        "id": "QsmsRLrNb7l7"
      },
      "execution_count": null,
      "outputs": []
    },
    {
      "cell_type": "code",
      "source": [
        "# TypeError\n",
        "1 + '2'"
      ],
      "metadata": {
        "id": "ymJL5-_0b7oz"
      },
      "execution_count": null,
      "outputs": []
    },
    {
      "cell_type": "code",
      "source": [
        "k = {'name': 'Ali', 'age': 30}\n",
        "k['address']                  # KeyError"
      ],
      "metadata": {
        "id": "d2tAZF5BhgnJ"
      },
      "execution_count": null,
      "outputs": []
    },
    {
      "cell_type": "code",
      "source": [
        "l= [1,2,3]\n",
        "l[5]          # IndexError"
      ],
      "metadata": {
        "id": "c5uu73LJhgqD"
      },
      "execution_count": null,
      "outputs": []
    },
    {
      "cell_type": "code",
      "source": [
        "# Example\n",
        "name = input('Please enter your name: ')   # Enter your name"
      ],
      "metadata": {
        "id": "tPR2wKCl6djc"
      },
      "execution_count": null,
      "outputs": []
    },
    {
      "cell_type": "markdown",
      "source": [
        "We need to handle this so it does not accept anything except string"
      ],
      "metadata": {
        "id": "ztflZQBi8MFe"
      }
    },
    {
      "cell_type": "code",
      "source": [
        "while True:\n",
        "    name = input('Please enter your name: ')\n",
        "    if name.isalpha():\n",
        "        break\n",
        "    else:\n",
        "        print('Enter Alphabet Text')    \n",
        "print('Thank you')"
      ],
      "metadata": {
        "id": "BDGnAz3-057h"
      },
      "execution_count": null,
      "outputs": []
    },
    {
      "cell_type": "code",
      "source": [
        "age = int(input(\"Enter your age: \"))\n",
        "save = 100/age"
      ],
      "metadata": {
        "id": "zUwlrvZs2lxg"
      },
      "execution_count": null,
      "outputs": []
    },
    {
      "cell_type": "code",
      "source": [
        "age = int(input(\"Enter your age: \"))\n",
        "save = 100/age"
      ],
      "metadata": {
        "id": "0e5u05SY20lw"
      },
      "execution_count": null,
      "outputs": []
    },
    {
      "cell_type": "code",
      "source": [
        "tries=0\n",
        "while True:\n",
        "    try:\n",
        "        age = int(input(\"Enter your age: \"))\n",
        "        save = 100/age\n",
        "        \n",
        "    except ZeroDivisionError:\n",
        "        print(\"enter age greater than 0\")\n",
        "        continue\n",
        "        \n",
        "    except ValueError:\n",
        "        print(\"Please enter a no.\")\n",
        "        continue\n",
        "        \n",
        "    else:\n",
        "        print(f\"thank you, and your age is {age}\")\n",
        "        break\n",
        "        \n",
        "    finally:\n",
        "        tries +=1\n",
        "        print(f\"Tries : {tries}\")\n",
        "    \n",
        "    print(\"can you hear me??????\")"
      ],
      "metadata": {
        "id": "Aydy_zX_g5hx"
      },
      "execution_count": null,
      "outputs": []
    },
    {
      "cell_type": "code",
      "source": [
        "def division_fn(num1, num2):\n",
        "    try: \n",
        "        return num1/num2\n",
        "    except (ZeroDivisionError, TypeError) as err:\n",
        "        return(f'error: {err}')\n",
        "\n",
        "print(division_fn(1,'0'))\n",
        "print(division_fn(1,0))\n",
        "print(division_fn(1,4))"
      ],
      "metadata": {
        "id": "pr7fPRIig5kp"
      },
      "execution_count": null,
      "outputs": []
    },
    {
      "cell_type": "code",
      "source": [
        "def sqrt(x):\n",
        "    if x < 0:\n",
        "        raise ValueError('x must be non-negative')\n",
        "    try:\n",
        "        return x ** 0.5\n",
        "    except TypeError:\n",
        "        print('x must be an int or float')"
      ],
      "metadata": {
        "id": "htklt1PEg5no"
      },
      "execution_count": null,
      "outputs": []
    },
    {
      "cell_type": "code",
      "source": [
        "sqrt(0.5)"
      ],
      "metadata": {
        "id": "HLQ1Zf9kb7ru"
      },
      "execution_count": null,
      "outputs": []
    },
    {
      "cell_type": "code",
      "source": [
        "sqrt(-9)"
      ],
      "metadata": {
        "id": "0xmIwRszb7u9"
      },
      "execution_count": null,
      "outputs": []
    },
    {
      "cell_type": "code",
      "source": [
        ""
      ],
      "metadata": {
        "id": "ttx7vCaT8qpS"
      },
      "execution_count": null,
      "outputs": []
    }
  ],
  "metadata": {
    "kernelspec": {
      "display_name": "Python 3",
      "language": "python",
      "name": "python3"
    },
    "language_info": {
      "codemirror_mode": {
        "name": "ipython",
        "version": 3
      },
      "file_extension": ".py",
      "mimetype": "text/x-python",
      "name": "python",
      "nbconvert_exporter": "python",
      "pygments_lexer": "ipython3",
      "version": "3.8.8"
    },
    "colab": {
      "name": "Python Crash Course 2022.ipynb",
      "provenance": [],
      "collapsed_sections": [
        "UOj9me7SNXxW",
        "6GRrRbnjNRD5",
        "AAF-3BXKNRD7",
        "XRM_KkU2O0X1",
        "yexQJKtxO8dc",
        "Tvd6pwhUNREG",
        "tmwbF95UNREH",
        "Vx9z0RFfOt9-",
        "bnWiQoGUNREH",
        "reIWz3yhNREI",
        "j403FTusPBAc",
        "BaDe6lP4NREJ",
        "1WldHeePV3EC",
        "r40ks_9TNREK",
        "o91snWCZNREL",
        "msT229O7NREL",
        "b_Dam-XDNREM",
        "_FRpdcLVNREM",
        "MzrT2a9vNREN",
        "gLr6xLRUNREO",
        "dnfSjID7NREP",
        "XVshq4bTNREP",
        "IUM9u1VkNREU",
        "98rMrPDRNREU",
        "CI9kYnp7NREW",
        "DhiUTmY6NREY",
        "6RekCu59NREZ",
        "F6QlzQLCNREb",
        "knpnS0aZpGCt",
        "Jou_lDvONREc",
        "2aqS5jolNREc",
        "nPznehAiNREe",
        "NTWwZ11JNREi",
        "hL8i4URrNREi",
        "USnMQnmWmn4v",
        "GHpHkcaVnJf_",
        "EVy6saLrnezw",
        "TVeToiqOntZ_",
        "bBWG0O35n0TI",
        "vIWvwv9Rn6B4",
        "jaJ6T-65oDGf",
        "kjOL6Gt2oOHv",
        "_Zfla2MWu-Gp",
        "0LGkeVoDvCaJ",
        "ebWR2rtcvVyK",
        "eaxoHaTKvi3f",
        "_GKcYJzgwAqz",
        "iiV-vaF5wsB5",
        "4YN8W7Cq6_fZ",
        "ftzVj9rq9Pk0",
        "zxxf2P8m9lxL",
        "tTEyBAJdssYE",
        "ZCgBgSTTcTUo",
        "2ET_u9K9-frJ",
        "8uGcGQVdFe-Y",
        "GYGHOEGLrWJn",
        "qsT0ydNkFsrK",
        "Qc473bJxJMYA",
        "HDah2EP7JZez",
        "uwifsydNNfxU",
        "djmJkEZO6KpH",
        "5BNhghQkmvDc",
        "SoD35s1L6yBm",
        "XwR6obZ7xzQ0",
        "V7VwVkN1MId9",
        "qYJbH3qNyGGr",
        "1L5XAQPg2p0S",
        "eIo8z51rdE8H",
        "tx6mvBv36Zlp",
        "HJ_DL_kg51vz",
        "QjAB3-fG6hEq",
        "ZFfrbefe6P5z",
        "CuCUj8sS6gwc",
        "UAVGu5d12ctK",
        "xxzwFbgaXluu",
        "wB8GC98tLXQY",
        "5C_gk6JLFB7T"
      ],
      "include_colab_link": true
    }
  },
  "nbformat": 4,
  "nbformat_minor": 0
}